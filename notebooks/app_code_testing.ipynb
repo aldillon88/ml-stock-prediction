{
 "cells": [
  {
   "cell_type": "code",
   "execution_count": 17,
   "id": "c87137b3-ea19-4e27-a1a8-88ccce93994c",
   "metadata": {},
   "outputs": [
    {
     "name": "stderr",
     "output_type": "stream",
     "text": [
      "/Users/anthonydillon/Ironhack/wk8/project/venv-final-project/lib/python3.9/site-packages/urllib3/__init__.py:35: NotOpenSSLWarning: urllib3 v2 only supports OpenSSL 1.1.1+, currently the 'ssl' module is compiled with 'LibreSSL 2.8.3'. See: https://github.com/urllib3/urllib3/issues/3020\n",
      "  warnings.warn(\n"
     ]
    }
   ],
   "source": [
    "import pandas as pd\n",
    "#import pickle\n",
    "import joblib\n",
    "from fmp_python.fmp import FMP\n",
    "import ssl\n",
    "import time\n",
    "from urllib.request import urlopen\n",
    "from urllib.parse import urlencode\n",
    "import certifi\n",
    "import json\n",
    "import os\n",
    "import config\n",
    "#import tempfile\n",
    "#from sklearn.preprocessing import MinMaxScaler\n",
    "\n",
    "#import optuna\n",
    "#import xgboost as xgb\n",
    "from sklearn.model_selection import train_test_split\n",
    "from sklearn.linear_model import LinearRegression\n",
    "from sklearn.ensemble import StackingRegressor\n",
    "from sklearn.metrics import mean_squared_error, root_mean_squared_error, mean_absolute_error, r2_score\n",
    "from sklearn.svm import SVR\n",
    "\n",
    "import plotly.express as px\n",
    "import plotly.graph_objects as go\n",
    "from plotly.subplots import make_subplots"
   ]
  },
  {
   "cell_type": "code",
   "execution_count": 175,
   "id": "5d632e1e-0cbf-4972-8b86-565654e677a4",
   "metadata": {},
   "outputs": [],
   "source": [
    "# Variables\n",
    "\n",
    "context = ssl.create_default_context(cafile=certifi.where())\n",
    "apikey = os.getenv('FMP_SECRET_KEY')\n",
    "\n",
    "watchlist = ['AMZN', 'AAPL', 'GOOG', 'META','MSFT', 'NVDA', 'TSLA']\n",
    "indicators = ['dema', 'tema', 'williams', 'rsi', 'adx']\n",
    "features = ['vwap', 'dema', 'tema', 'williams', 'rsi', 'ratingScore', 'minus_10_price', 'minus_5_price', 'minus_4_price', 'minus_3_price', 'minus_2_price']\n",
    "target = ['target']\n",
    "close = ['close']"
   ]
  },
  {
   "cell_type": "code",
   "execution_count": 19,
   "id": "5b937bdb-95da-4901-b846-48b62e25ddbb",
   "metadata": {},
   "outputs": [
    {
     "name": "stdout",
     "output_type": "stream",
     "text": [
      "A8nw0ZRk5pklqvIiAfgBsTckdIorJ07q\n"
     ]
    }
   ],
   "source": [
    "print(apikey)"
   ]
  },
  {
   "cell_type": "code",
   "execution_count": 197,
   "id": "193c795d-da86-4d1f-9049-486157063216",
   "metadata": {},
   "outputs": [],
   "source": [
    "# Functions\n",
    "\n",
    "def company_profile_url(ticker, apikey=apikey):\n",
    "    endpoint = 'https://financialmodelingprep.com/api/v3/profile/'\n",
    "    url = f'{endpoint}{ticker}?apikey={apikey}'\n",
    "    return url\n",
    "\n",
    "def stock_screener(apikey=apikey, **kwargs):\n",
    "    endpoint = 'https://financialmodelingprep.com/api/v3/stock-screener'\n",
    "    params = {'apikey': apikey}\n",
    "    params.update(kwargs)\n",
    "    query_string = urlencode(params)\n",
    "    url = f'{endpoint}?{query_string}'\n",
    "    return url\n",
    "\n",
    "# REMOVE???\n",
    "def full_quote_url(ticker, apikey=apikey):\n",
    "    endpoint = 'https://financialmodelingprep.com/api/v3/quote/'\n",
    "    url = f'{endpoint}{ticker}?apikey={apikey}'\n",
    "    return url\n",
    "\n",
    "def historical_url(ticker, apikey=apikey, **kwargs):\n",
    "    endpoint = 'https://financialmodelingprep.com/api/v3/historical-price-full/'\n",
    "    params = {'apikey': apikey}\n",
    "    params.update(kwargs)\n",
    "    query_string = urlencode(params)\n",
    "    #url = f'{endpoint}{ticker}?apikey={query_string}'\n",
    "    url = f'{endpoint}{ticker}?{query_string}'\n",
    "    return url\n",
    "\n",
    "def technical_indicator_url(timeframe, ticker, ind_type, period, apikey=apikey, **kwargs):\n",
    "    endpoint = 'https://financialmodelingprep.com/api/v3/technical_indicator/'\n",
    "    params = {\n",
    "        'apikey': apikey,\n",
    "        'type': ind_type,\n",
    "        'period': period\n",
    "    }\n",
    "    params.update(kwargs)\n",
    "    query_string = urlencode(params)\n",
    "    url = f'{endpoint}{timeframe}/{ticker}?{query_string}'\n",
    "    return url\n",
    "\n",
    "def historical_rating_url(ticker, apikey=apikey, **kwargs):\n",
    "    endpoint = 'https://financialmodelingprep.com/api/v3/historical-rating/'\n",
    "    params = {'apikey': apikey}\n",
    "    params.update(kwargs)\n",
    "    query_string = urlencode(params)\n",
    "    url = f'{endpoint}{ticker}?{query_string}'\n",
    "    return url\n",
    "\n",
    "def get_jsonparsed_data(url, retries=3, timeout=10):\n",
    "    \"\"\"\n",
    "    Fetch JSON data from the provided URL and return it as a Python dictionary.\n",
    "    \n",
    "    Parameters\n",
    "    ----------\n",
    "    url : str\n",
    "        The URL to fetch data from.\n",
    "    retries : int\n",
    "        The number of retries for the request in case of failure.\n",
    "    timeout : int\n",
    "        The timeout for the request in seconds.\n",
    "\n",
    "    Returns\n",
    "    -------\n",
    "    dict\n",
    "        The parsed JSON data.\n",
    "    \"\"\"\n",
    "    context = ssl.create_default_context(cafile=certifi.where())\n",
    "    for attempt in range(retries):\n",
    "        try:\n",
    "            with urlopen(url, context=context, timeout=timeout) as response:\n",
    "                data = response.read().decode(\"utf-8\")\n",
    "                return json.loads(data)\n",
    "        except Exception as e:\n",
    "            print(f\"Attempt {attempt + 1} failed: {e}\")\n",
    "            if attempt < retries - 1:\n",
    "                time.sleep(2 ** attempt)  # Exponential backoff\n",
    "            else:\n",
    "                raise\n",
    "\n",
    "def display_company_logo(ticker, apikey=apikey, retries=3, timeout=10):\n",
    "    endpoint = 'https://financialmodelingprep.com/image-stock/'\n",
    "    url = f'{endpoint}{ticker}.png?apikey={apikey}'\n",
    "    print(url)\n",
    "    for attempt in range(retries):\n",
    "        try:\n",
    "            with urlopen(url, context=context) as response:\n",
    "                image_data = response.read()\n",
    "                display(Image(image_data))\n",
    "        except Exception as e:\n",
    "            print(f\"Error fetching image: {e}\")\n",
    "\n",
    "\n",
    "def get_indicators(ticker, indicators=indicators, timeframe='1day', period=14, apikey=apikey, **kwargs):\n",
    "    urls = {}\n",
    "    for indicator in indicators:\n",
    "        url = technical_indicator_url(timeframe, ticker, indicator, period, apikey, **kwargs)\n",
    "        urls[indicator] = url\n",
    "    \n",
    "    ind_data = {}\n",
    "    for key, value in urls.items():\n",
    "        data = get_jsonparsed_data(value)\n",
    "        filtered_data = [{'date': entry['date'], key: entry[key]} for entry in data if key in entry]\n",
    "        ind_data[key] = filtered_data\n",
    "    \n",
    "    df_list = []\n",
    "    for indicator, data in ind_data.items():\n",
    "        df = pd.DataFrame(data)\n",
    "        df = df.set_index('date')\n",
    "        df_list.append(df)\n",
    "\n",
    "    final_df = pd.concat(df_list, axis=1, join='outer')\n",
    "    final_df.index = pd.to_datetime(final_df.index)\n",
    "        \n",
    "    return final_df\n",
    "\n",
    "def stock_summary_table(stock_data):\n",
    "    columns = stock_data[0]\n",
    "    table = pd.DataFrame(stock_data)[['symbol', 'name', 'price', 'marketCap', 'exchange']]\n",
    "    melted = table.melt().set_index('variable', drop=True)\n",
    "    return melted\n",
    "\n",
    "\n",
    "def get_all_data(ticker, **kwargs):\n",
    "    data = get_jsonparsed_data(historical_url(ticker, **kwargs))\n",
    "    data = data['historical']\n",
    "    \n",
    "    # List of keys to keep in each dictionary\n",
    "    keys_to_keep = ['date', 'open', 'high', 'low', 'close', 'volume', 'vwap']\n",
    "\n",
    "    # Modify each entry in the historical list\n",
    "    for entry in data:\n",
    "            \n",
    "        # Keep only the necessary keys\n",
    "        for key in list(entry.keys()):\n",
    "            if key not in keys_to_keep:\n",
    "                del entry[key]\n",
    "\n",
    "    data = pd.DataFrame(data).set_index('date', drop=True)\n",
    "    data.index = pd.to_datetime(data.index)\n",
    "    return data\n",
    "\n",
    "\n",
    "def get_historical_rating(ticker):\n",
    "    data = get_jsonparsed_data(historical_rating_url('GOOG'))\n",
    "    data = pd.DataFrame(data)[['date', 'ratingScore']]\n",
    "    data = data.set_index('date', drop=True)\n",
    "    data = data[data.index >= '2024-01-01']\n",
    "    data.index = pd.to_datetime(data.index)\n",
    "    data = data.sort_values('date')\n",
    "    return data\n",
    "\n",
    "\n",
    "def lagging_features_target(df):\n",
    "    df = df.copy()\n",
    "    df['minus_10_price'] = df.close.shift(10)\n",
    "    df['minus_5_price'] = df.close.shift(5)\n",
    "    df['minus_5_price'] = df.close.shift(5)\n",
    "    df['minus_4_price'] = df.close.shift(4)\n",
    "    df['minus_3_price'] = df.close.shift(3)\n",
    "    df['minus_2_price'] = df.close.shift(2)\n",
    "    #df['target'] = df.close.shift(-3)\n",
    "    df = df.dropna()\n",
    "    return df\n",
    "\n",
    "\n",
    "def combine_data(ticker, **kwargs):\n",
    "    price_data = get_all_data(ticker, **kwargs)\n",
    "    ind_data = get_indicators(ticker, **kwargs)\n",
    "    hist_rating_data = get_historical_rating(ticker)\n",
    "    df = pd.concat([price_data, ind_data, hist_rating_data], axis=1)\n",
    "    df = lagging_features_target(df)\n",
    "    df = df.asfreq('D', method='ffill')\n",
    "    return df\n",
    "\n",
    "\n",
    "#def predict_df(pred, features):\n",
    "#    predictions = pd.DataFrame(pred, index=features.index).rename(columns={0: 'price'})\n",
    "#    full_index = pd.date_range(start=predictions.index.min(), end=predictions.index.max() + pd.Timedelta(days=3), freq='D')\n",
    "#    predictions = predictions.reindex(full_index)\n",
    "#    predictions['price'] = predictions['price'].shift(3)\n",
    "#    predictions = predictions.dropna()\n",
    "#    return predictions\n",
    "\n",
    "\n",
    "def predict_df(pred, close):\n",
    "    predictions = close.copy()\n",
    "    predictions['prediction'] = pred\n",
    "    full_index = pd.date_range(start=predictions.index.min(), end=predictions.index.max() + pd.Timedelta(days=3), freq='D')\n",
    "    predictions = predictions.reindex(full_index)\n",
    "    predictions['prediction'] = predictions['prediction'].shift(3)\n",
    "    predictions.close = predictions.close.fillna(predictions.prediction)\n",
    "    return predictions[['close']]\n",
    "\n",
    "\n",
    "def feature_close_split(df, features=features, close=close):\n",
    "    features = df[features]\n",
    "    close = df[close]\n",
    "    return features, close\n",
    "\n",
    "\n",
    "def predict(ticker, df):\n",
    "    features, close = feature_close_split(df)\n",
    "    \n",
    "    models = {\n",
    "        'GOOG': 'alphabet_stacking_regressor_model.pkl',\n",
    "        'AMZN': 'amazon_stacking_regressor_model.pkl',\n",
    "        'AAPL': 'apple_stacking_regressor_model.pkl',\n",
    "        'META': 'meta_stacking_regressor_model.pkl',\n",
    "        'MSFT': 'microsoft_stacking_regressor_model.pkl',\n",
    "        'NVDA': 'nvidia_stacking_regressor_model.pkl',\n",
    "        'TSLA': 'tesla_stacking_regressor_model.pkl'\n",
    "    }\n",
    "\n",
    "    scalers = {\n",
    "        'GOOG': 'alphabet_normalizer.pkl',\n",
    "        'AMZN': 'amazon_normalizer.pkl',\n",
    "        'AAPL': 'apple_normalizer.pkl',\n",
    "        'META': 'meta_normalizer.pkl',\n",
    "        'MSFT': 'microsoft_normalizer.pkl',\n",
    "        'NVDA': 'nvidia_normalizer.pkl',\n",
    "        'TSLA': 'tesla_normalizer.pkl'\n",
    "    }\n",
    "\n",
    "    scaler = joblib.load('../scalers/' + scalers['GOOG'])\n",
    "    model = joblib.load('../models/' + models['GOOG'])\n",
    "\n",
    "    # Normalize features\n",
    "    features_norm = scaler.transform(features)\n",
    "    features_norm_df = pd.DataFrame(features_norm, columns=features.columns, index=features.index)\n",
    "\n",
    "    # Make predictions\n",
    "    pred = model.predict(features_norm_df)\n",
    "\n",
    "    df = predict_df(pred, close)\n",
    "\n",
    "    return df\n",
    "\n",
    "\n",
    "def make_chart(df):\n",
    "    predicted_points = 3\n",
    "    \n",
    "    fig = go.Figure()\n",
    "    \n",
    "    # Add the actual data line\n",
    "    fig.add_trace(go.Scatter(x=df.index[:-predicted_points], y=df['close'][:-predicted_points], mode='lines', name='Actual'))\n",
    "    \n",
    "    # Add the predicted data line\n",
    "    fig.add_trace(go.Scatter(x=df.index[-predicted_points-1:], y=df['close'][-predicted_points-1:], mode='lines', name='Predicted', line=dict(color='red')))\n",
    "    \n",
    "    # Highlight the predicted section\n",
    "    fig.add_vrect(\n",
    "        x0=df.index[-predicted_points-1], x1=pred.index[-1],\n",
    "        fillcolor=\"red\", opacity=0.2,\n",
    "        layer=\"below\", line_width=0\n",
    "    )\n",
    "    \n",
    "    fig.update_layout(xaxis_title='Date',\n",
    "                      yaxis_title='Price')\n",
    "\n",
    "    return fig"
   ]
  },
  {
   "cell_type": "markdown",
   "id": "5198cbcf-d602-483b-8214-b87b2436cd3d",
   "metadata": {},
   "source": [
    "# Collect data\n",
    "1. Make an API call to retrieve historical data for the last 30 days\n",
    "2. Make an API call to retrieve technical indicator data for the last 30 days\n",
    "3. Format data to match what the model expects\n",
    "4. Predict with the model\n",
    "5. Create a chart with the predictions"
   ]
  },
  {
   "cell_type": "code",
   "execution_count": 121,
   "id": "b52f2f7a-ca58-45b1-8784-809bde49c5c1",
   "metadata": {},
   "outputs": [
    {
     "data": {
      "text/html": [
       "<div>\n",
       "<style scoped>\n",
       "    .dataframe tbody tr th:only-of-type {\n",
       "        vertical-align: middle;\n",
       "    }\n",
       "\n",
       "    .dataframe tbody tr th {\n",
       "        vertical-align: top;\n",
       "    }\n",
       "\n",
       "    .dataframe thead th {\n",
       "        text-align: right;\n",
       "    }\n",
       "</style>\n",
       "<table border=\"1\" class=\"dataframe\">\n",
       "  <thead>\n",
       "    <tr style=\"text-align: right;\">\n",
       "      <th></th>\n",
       "      <th>ratingScore</th>\n",
       "    </tr>\n",
       "    <tr>\n",
       "      <th>date</th>\n",
       "      <th></th>\n",
       "    </tr>\n",
       "  </thead>\n",
       "  <tbody>\n",
       "    <tr>\n",
       "      <th>2024-01-02</th>\n",
       "      <td>5</td>\n",
       "    </tr>\n",
       "    <tr>\n",
       "      <th>2024-01-03</th>\n",
       "      <td>5</td>\n",
       "    </tr>\n",
       "    <tr>\n",
       "      <th>2024-01-04</th>\n",
       "      <td>5</td>\n",
       "    </tr>\n",
       "    <tr>\n",
       "      <th>2024-01-05</th>\n",
       "      <td>5</td>\n",
       "    </tr>\n",
       "    <tr>\n",
       "      <th>2024-01-08</th>\n",
       "      <td>5</td>\n",
       "    </tr>\n",
       "    <tr>\n",
       "      <th>...</th>\n",
       "      <td>...</td>\n",
       "    </tr>\n",
       "    <tr>\n",
       "      <th>2024-06-24</th>\n",
       "      <td>4</td>\n",
       "    </tr>\n",
       "    <tr>\n",
       "      <th>2024-06-25</th>\n",
       "      <td>4</td>\n",
       "    </tr>\n",
       "    <tr>\n",
       "      <th>2024-06-26</th>\n",
       "      <td>4</td>\n",
       "    </tr>\n",
       "    <tr>\n",
       "      <th>2024-06-27</th>\n",
       "      <td>4</td>\n",
       "    </tr>\n",
       "    <tr>\n",
       "      <th>2024-06-28</th>\n",
       "      <td>4</td>\n",
       "    </tr>\n",
       "  </tbody>\n",
       "</table>\n",
       "<p>121 rows × 1 columns</p>\n",
       "</div>"
      ],
      "text/plain": [
       "            ratingScore\n",
       "date                   \n",
       "2024-01-02            5\n",
       "2024-01-03            5\n",
       "2024-01-04            5\n",
       "2024-01-05            5\n",
       "2024-01-08            5\n",
       "...                 ...\n",
       "2024-06-24            4\n",
       "2024-06-25            4\n",
       "2024-06-26            4\n",
       "2024-06-27            4\n",
       "2024-06-28            4\n",
       "\n",
       "[121 rows x 1 columns]"
      ]
     },
     "execution_count": 121,
     "metadata": {},
     "output_type": "execute_result"
    }
   ],
   "source": [
    "get_historical_rating('GOOG')"
   ]
  },
  {
   "cell_type": "code",
   "execution_count": null,
   "id": "16d5059a-f6b6-4203-9158-8206bc27f91b",
   "metadata": {},
   "outputs": [],
   "source": [
    "params = {\n",
    "    'from': '2024-01-01',\n",
    "    'to': '2024-06-28'\n",
    "}\n",
    "\n",
    "all_data = combine_data('AMZN', **params).sort_values(by='date')"
   ]
  },
  {
   "cell_type": "code",
   "execution_count": 207,
   "id": "aefd0663-b046-4cad-a1ab-3cd1d7a20aae",
   "metadata": {},
   "outputs": [
    {
     "data": {
      "text/html": [
       "<div>\n",
       "<style scoped>\n",
       "    .dataframe tbody tr th:only-of-type {\n",
       "        vertical-align: middle;\n",
       "    }\n",
       "\n",
       "    .dataframe tbody tr th {\n",
       "        vertical-align: top;\n",
       "    }\n",
       "\n",
       "    .dataframe thead th {\n",
       "        text-align: right;\n",
       "    }\n",
       "</style>\n",
       "<table border=\"1\" class=\"dataframe\">\n",
       "  <thead>\n",
       "    <tr style=\"text-align: right;\">\n",
       "      <th></th>\n",
       "      <th>open</th>\n",
       "      <th>high</th>\n",
       "      <th>low</th>\n",
       "      <th>close</th>\n",
       "      <th>volume</th>\n",
       "      <th>vwap</th>\n",
       "      <th>dema</th>\n",
       "      <th>tema</th>\n",
       "      <th>williams</th>\n",
       "      <th>rsi</th>\n",
       "      <th>adx</th>\n",
       "      <th>ratingScore</th>\n",
       "      <th>minus_10_price</th>\n",
       "      <th>minus_5_price</th>\n",
       "      <th>minus_4_price</th>\n",
       "      <th>minus_3_price</th>\n",
       "      <th>minus_2_price</th>\n",
       "    </tr>\n",
       "    <tr>\n",
       "      <th>date</th>\n",
       "      <th></th>\n",
       "      <th></th>\n",
       "      <th></th>\n",
       "      <th></th>\n",
       "      <th></th>\n",
       "      <th></th>\n",
       "      <th></th>\n",
       "      <th></th>\n",
       "      <th></th>\n",
       "      <th></th>\n",
       "      <th></th>\n",
       "      <th></th>\n",
       "      <th></th>\n",
       "      <th></th>\n",
       "      <th></th>\n",
       "      <th></th>\n",
       "      <th></th>\n",
       "    </tr>\n",
       "  </thead>\n",
       "  <tbody>\n",
       "    <tr>\n",
       "      <th>2024-04-30</th>\n",
       "      <td>181.09</td>\n",
       "      <td>182.99</td>\n",
       "      <td>174.80</td>\n",
       "      <td>175.00</td>\n",
       "      <td>94639786</td>\n",
       "      <td>178.4700</td>\n",
       "      <td>177.664919</td>\n",
       "      <td>176.176296</td>\n",
       "      <td>-62.985075</td>\n",
       "      <td>43.960961</td>\n",
       "      <td>23.940331</td>\n",
       "      <td>5.0</td>\n",
       "      <td>183.32</td>\n",
       "      <td>179.54</td>\n",
       "      <td>176.59</td>\n",
       "      <td>173.67</td>\n",
       "      <td>179.62</td>\n",
       "    </tr>\n",
       "    <tr>\n",
       "      <th>2024-05-01</th>\n",
       "      <td>181.64</td>\n",
       "      <td>185.15</td>\n",
       "      <td>176.56</td>\n",
       "      <td>179.00</td>\n",
       "      <td>94645148</td>\n",
       "      <td>180.5875</td>\n",
       "      <td>177.847222</td>\n",
       "      <td>176.710786</td>\n",
       "      <td>-43.316942</td>\n",
       "      <td>49.923865</td>\n",
       "      <td>22.845684</td>\n",
       "      <td>5.0</td>\n",
       "      <td>181.28</td>\n",
       "      <td>176.59</td>\n",
       "      <td>173.67</td>\n",
       "      <td>179.62</td>\n",
       "      <td>180.96</td>\n",
       "    </tr>\n",
       "    <tr>\n",
       "      <th>2024-05-02</th>\n",
       "      <td>180.85</td>\n",
       "      <td>185.10</td>\n",
       "      <td>179.91</td>\n",
       "      <td>184.72</td>\n",
       "      <td>54303510</td>\n",
       "      <td>182.6450</td>\n",
       "      <td>179.428290</td>\n",
       "      <td>179.148940</td>\n",
       "      <td>-17.746983</td>\n",
       "      <td>56.974298</td>\n",
       "      <td>21.829227</td>\n",
       "      <td>5.0</td>\n",
       "      <td>179.22</td>\n",
       "      <td>173.67</td>\n",
       "      <td>179.62</td>\n",
       "      <td>180.96</td>\n",
       "      <td>175.00</td>\n",
       "    </tr>\n",
       "    <tr>\n",
       "      <th>2024-05-03</th>\n",
       "      <td>186.99</td>\n",
       "      <td>187.87</td>\n",
       "      <td>185.42</td>\n",
       "      <td>186.21</td>\n",
       "      <td>39172004</td>\n",
       "      <td>186.6225</td>\n",
       "      <td>181.080767</td>\n",
       "      <td>181.522562</td>\n",
       "      <td>-7.703016</td>\n",
       "      <td>58.609099</td>\n",
       "      <td>20.277858</td>\n",
       "      <td>5.0</td>\n",
       "      <td>174.63</td>\n",
       "      <td>179.62</td>\n",
       "      <td>180.96</td>\n",
       "      <td>175.00</td>\n",
       "      <td>179.00</td>\n",
       "    </tr>\n",
       "    <tr>\n",
       "      <th>2024-05-04</th>\n",
       "      <td>186.99</td>\n",
       "      <td>187.87</td>\n",
       "      <td>185.42</td>\n",
       "      <td>186.21</td>\n",
       "      <td>39172004</td>\n",
       "      <td>186.6225</td>\n",
       "      <td>181.080767</td>\n",
       "      <td>181.522562</td>\n",
       "      <td>-7.703016</td>\n",
       "      <td>58.609099</td>\n",
       "      <td>20.277858</td>\n",
       "      <td>5.0</td>\n",
       "      <td>174.63</td>\n",
       "      <td>179.62</td>\n",
       "      <td>180.96</td>\n",
       "      <td>175.00</td>\n",
       "      <td>179.00</td>\n",
       "    </tr>\n",
       "    <tr>\n",
       "      <th>2024-05-05</th>\n",
       "      <td>186.99</td>\n",
       "      <td>187.87</td>\n",
       "      <td>185.42</td>\n",
       "      <td>186.21</td>\n",
       "      <td>39172004</td>\n",
       "      <td>186.6225</td>\n",
       "      <td>181.080767</td>\n",
       "      <td>181.522562</td>\n",
       "      <td>-7.703016</td>\n",
       "      <td>58.609099</td>\n",
       "      <td>20.277858</td>\n",
       "      <td>5.0</td>\n",
       "      <td>174.63</td>\n",
       "      <td>179.62</td>\n",
       "      <td>180.96</td>\n",
       "      <td>175.00</td>\n",
       "      <td>179.00</td>\n",
       "    </tr>\n",
       "    <tr>\n",
       "      <th>2024-05-06</th>\n",
       "      <td>186.28</td>\n",
       "      <td>188.75</td>\n",
       "      <td>184.80</td>\n",
       "      <td>188.70</td>\n",
       "      <td>34725295</td>\n",
       "      <td>187.1325</td>\n",
       "      <td>183.032881</td>\n",
       "      <td>184.171385</td>\n",
       "      <td>-0.222916</td>\n",
       "      <td>61.258291</td>\n",
       "      <td>19.028153</td>\n",
       "      <td>4.0</td>\n",
       "      <td>177.23</td>\n",
       "      <td>180.96</td>\n",
       "      <td>175.00</td>\n",
       "      <td>179.00</td>\n",
       "      <td>184.72</td>\n",
       "    </tr>\n",
       "    <tr>\n",
       "      <th>2024-05-07</th>\n",
       "      <td>188.92</td>\n",
       "      <td>189.94</td>\n",
       "      <td>187.31</td>\n",
       "      <td>188.76</td>\n",
       "      <td>34048902</td>\n",
       "      <td>188.7325</td>\n",
       "      <td>184.614817</td>\n",
       "      <td>186.154212</td>\n",
       "      <td>-4.995766</td>\n",
       "      <td>61.322530</td>\n",
       "      <td>18.128074</td>\n",
       "      <td>4.0</td>\n",
       "      <td>179.54</td>\n",
       "      <td>175.00</td>\n",
       "      <td>179.00</td>\n",
       "      <td>184.72</td>\n",
       "      <td>186.21</td>\n",
       "    </tr>\n",
       "    <tr>\n",
       "      <th>2024-05-08</th>\n",
       "      <td>187.44</td>\n",
       "      <td>188.43</td>\n",
       "      <td>186.39</td>\n",
       "      <td>188.00</td>\n",
       "      <td>26136350</td>\n",
       "      <td>187.5650</td>\n",
       "      <td>185.687564</td>\n",
       "      <td>187.330031</td>\n",
       "      <td>-8.213378</td>\n",
       "      <td>59.966162</td>\n",
       "      <td>17.062164</td>\n",
       "      <td>4.0</td>\n",
       "      <td>176.59</td>\n",
       "      <td>179.00</td>\n",
       "      <td>184.72</td>\n",
       "      <td>186.21</td>\n",
       "      <td>188.70</td>\n",
       "    </tr>\n",
       "    <tr>\n",
       "      <th>2024-05-09</th>\n",
       "      <td>188.88</td>\n",
       "      <td>191.70</td>\n",
       "      <td>187.44</td>\n",
       "      <td>189.50</td>\n",
       "      <td>43368377</td>\n",
       "      <td>189.3800</td>\n",
       "      <td>186.907759</td>\n",
       "      <td>188.676862</td>\n",
       "      <td>-8.668243</td>\n",
       "      <td>61.763770</td>\n",
       "      <td>16.790328</td>\n",
       "      <td>5.0</td>\n",
       "      <td>173.67</td>\n",
       "      <td>184.72</td>\n",
       "      <td>186.21</td>\n",
       "      <td>188.70</td>\n",
       "      <td>188.76</td>\n",
       "    </tr>\n",
       "    <tr>\n",
       "      <th>2024-05-10</th>\n",
       "      <td>189.16</td>\n",
       "      <td>189.89</td>\n",
       "      <td>186.93</td>\n",
       "      <td>187.48</td>\n",
       "      <td>34141771</td>\n",
       "      <td>188.3650</td>\n",
       "      <td>187.367590</td>\n",
       "      <td>188.915801</td>\n",
       "      <td>-16.627266</td>\n",
       "      <td>57.987631</td>\n",
       "      <td>16.399235</td>\n",
       "      <td>4.0</td>\n",
       "      <td>179.62</td>\n",
       "      <td>186.21</td>\n",
       "      <td>188.70</td>\n",
       "      <td>188.76</td>\n",
       "      <td>188.00</td>\n",
       "    </tr>\n",
       "    <tr>\n",
       "      <th>2024-05-11</th>\n",
       "      <td>189.16</td>\n",
       "      <td>189.89</td>\n",
       "      <td>186.93</td>\n",
       "      <td>187.48</td>\n",
       "      <td>34141771</td>\n",
       "      <td>188.3650</td>\n",
       "      <td>187.367590</td>\n",
       "      <td>188.915801</td>\n",
       "      <td>-16.627266</td>\n",
       "      <td>57.987631</td>\n",
       "      <td>16.399235</td>\n",
       "      <td>4.0</td>\n",
       "      <td>179.62</td>\n",
       "      <td>186.21</td>\n",
       "      <td>188.70</td>\n",
       "      <td>188.76</td>\n",
       "      <td>188.00</td>\n",
       "    </tr>\n",
       "    <tr>\n",
       "      <th>2024-05-12</th>\n",
       "      <td>189.16</td>\n",
       "      <td>189.89</td>\n",
       "      <td>186.93</td>\n",
       "      <td>187.48</td>\n",
       "      <td>34141771</td>\n",
       "      <td>188.3650</td>\n",
       "      <td>187.367590</td>\n",
       "      <td>188.915801</td>\n",
       "      <td>-16.627266</td>\n",
       "      <td>57.987631</td>\n",
       "      <td>16.399235</td>\n",
       "      <td>4.0</td>\n",
       "      <td>179.62</td>\n",
       "      <td>186.21</td>\n",
       "      <td>188.70</td>\n",
       "      <td>188.76</td>\n",
       "      <td>188.00</td>\n",
       "    </tr>\n",
       "    <tr>\n",
       "      <th>2024-05-13</th>\n",
       "      <td>188.00</td>\n",
       "      <td>188.31</td>\n",
       "      <td>185.36</td>\n",
       "      <td>186.57</td>\n",
       "      <td>24898613</td>\n",
       "      <td>187.0600</td>\n",
       "      <td>187.488483</td>\n",
       "      <td>188.707802</td>\n",
       "      <td>-20.212766</td>\n",
       "      <td>56.317195</td>\n",
       "      <td>15.608518</td>\n",
       "      <td>4.0</td>\n",
       "      <td>180.96</td>\n",
       "      <td>188.70</td>\n",
       "      <td>188.76</td>\n",
       "      <td>188.00</td>\n",
       "      <td>189.50</td>\n",
       "    </tr>\n",
       "    <tr>\n",
       "      <th>2024-05-14</th>\n",
       "      <td>183.82</td>\n",
       "      <td>187.72</td>\n",
       "      <td>183.45</td>\n",
       "      <td>187.07</td>\n",
       "      <td>38698155</td>\n",
       "      <td>185.5150</td>\n",
       "      <td>187.687404</td>\n",
       "      <td>188.661826</td>\n",
       "      <td>-18.242711</td>\n",
       "      <td>57.049308</td>\n",
       "      <td>14.608123</td>\n",
       "      <td>4.0</td>\n",
       "      <td>175.00</td>\n",
       "      <td>188.76</td>\n",
       "      <td>188.00</td>\n",
       "      <td>189.50</td>\n",
       "      <td>187.48</td>\n",
       "    </tr>\n",
       "    <tr>\n",
       "      <th>2024-05-15</th>\n",
       "      <td>185.97</td>\n",
       "      <td>186.72</td>\n",
       "      <td>182.73</td>\n",
       "      <td>185.99</td>\n",
       "      <td>75459927</td>\n",
       "      <td>185.3525</td>\n",
       "      <td>187.557039</td>\n",
       "      <td>188.192600</td>\n",
       "      <td>-33.786982</td>\n",
       "      <td>54.908653</td>\n",
       "      <td>13.862082</td>\n",
       "      <td>4.0</td>\n",
       "      <td>179.00</td>\n",
       "      <td>188.00</td>\n",
       "      <td>189.50</td>\n",
       "      <td>187.48</td>\n",
       "      <td>186.57</td>\n",
       "    </tr>\n",
       "    <tr>\n",
       "      <th>2024-05-16</th>\n",
       "      <td>185.60</td>\n",
       "      <td>187.31</td>\n",
       "      <td>183.46</td>\n",
       "      <td>183.63</td>\n",
       "      <td>38834450</td>\n",
       "      <td>185.0000</td>\n",
       "      <td>186.843884</td>\n",
       "      <td>186.966186</td>\n",
       "      <td>-47.751479</td>\n",
       "      <td>50.453520</td>\n",
       "      <td>13.002303</td>\n",
       "      <td>4.0</td>\n",
       "      <td>184.72</td>\n",
       "      <td>189.50</td>\n",
       "      <td>187.48</td>\n",
       "      <td>186.57</td>\n",
       "      <td>187.07</td>\n",
       "    </tr>\n",
       "    <tr>\n",
       "      <th>2024-05-17</th>\n",
       "      <td>183.76</td>\n",
       "      <td>185.30</td>\n",
       "      <td>183.35</td>\n",
       "      <td>184.70</td>\n",
       "      <td>33175655</td>\n",
       "      <td>184.2775</td>\n",
       "      <td>186.517401</td>\n",
       "      <td>186.381076</td>\n",
       "      <td>-41.420118</td>\n",
       "      <td>52.341581</td>\n",
       "      <td>12.235403</td>\n",
       "      <td>4.0</td>\n",
       "      <td>186.21</td>\n",
       "      <td>187.48</td>\n",
       "      <td>186.57</td>\n",
       "      <td>187.07</td>\n",
       "      <td>185.99</td>\n",
       "    </tr>\n",
       "    <tr>\n",
       "      <th>2024-05-18</th>\n",
       "      <td>183.76</td>\n",
       "      <td>185.30</td>\n",
       "      <td>183.35</td>\n",
       "      <td>184.70</td>\n",
       "      <td>33175655</td>\n",
       "      <td>184.2775</td>\n",
       "      <td>186.517401</td>\n",
       "      <td>186.381076</td>\n",
       "      <td>-41.420118</td>\n",
       "      <td>52.341581</td>\n",
       "      <td>12.235403</td>\n",
       "      <td>4.0</td>\n",
       "      <td>186.21</td>\n",
       "      <td>187.48</td>\n",
       "      <td>186.57</td>\n",
       "      <td>187.07</td>\n",
       "      <td>185.99</td>\n",
       "    </tr>\n",
       "    <tr>\n",
       "      <th>2024-05-19</th>\n",
       "      <td>183.76</td>\n",
       "      <td>185.30</td>\n",
       "      <td>183.35</td>\n",
       "      <td>184.70</td>\n",
       "      <td>33175655</td>\n",
       "      <td>184.2775</td>\n",
       "      <td>186.517401</td>\n",
       "      <td>186.381076</td>\n",
       "      <td>-41.420118</td>\n",
       "      <td>52.341581</td>\n",
       "      <td>12.235403</td>\n",
       "      <td>4.0</td>\n",
       "      <td>186.21</td>\n",
       "      <td>187.48</td>\n",
       "      <td>186.57</td>\n",
       "      <td>187.07</td>\n",
       "      <td>185.99</td>\n",
       "    </tr>\n",
       "    <tr>\n",
       "      <th>2024-05-20</th>\n",
       "      <td>184.34</td>\n",
       "      <td>186.67</td>\n",
       "      <td>183.28</td>\n",
       "      <td>183.54</td>\n",
       "      <td>30511768</td>\n",
       "      <td>184.4575</td>\n",
       "      <td>185.951156</td>\n",
       "      <td>185.511519</td>\n",
       "      <td>-53.896962</td>\n",
       "      <td>50.112095</td>\n",
       "      <td>11.614280</td>\n",
       "      <td>4.0</td>\n",
       "      <td>188.70</td>\n",
       "      <td>186.57</td>\n",
       "      <td>187.07</td>\n",
       "      <td>185.99</td>\n",
       "      <td>183.63</td>\n",
       "    </tr>\n",
       "    <tr>\n",
       "      <th>2024-05-21</th>\n",
       "      <td>182.30</td>\n",
       "      <td>183.26</td>\n",
       "      <td>180.75</td>\n",
       "      <td>183.15</td>\n",
       "      <td>50839129</td>\n",
       "      <td>182.3650</td>\n",
       "      <td>185.385911</td>\n",
       "      <td>184.706771</td>\n",
       "      <td>-72.519084</td>\n",
       "      <td>49.350990</td>\n",
       "      <td>11.282110</td>\n",
       "      <td>4.0</td>\n",
       "      <td>188.76</td>\n",
       "      <td>187.07</td>\n",
       "      <td>185.99</td>\n",
       "      <td>183.63</td>\n",
       "      <td>184.70</td>\n",
       "    </tr>\n",
       "    <tr>\n",
       "      <th>2024-05-22</th>\n",
       "      <td>183.88</td>\n",
       "      <td>185.22</td>\n",
       "      <td>181.97</td>\n",
       "      <td>183.13</td>\n",
       "      <td>28148784</td>\n",
       "      <td>183.5500</td>\n",
       "      <td>184.916622</td>\n",
       "      <td>184.089818</td>\n",
       "      <td>-78.264840</td>\n",
       "      <td>49.309629</td>\n",
       "      <td>10.575002</td>\n",
       "      <td>4.0</td>\n",
       "      <td>188.00</td>\n",
       "      <td>185.99</td>\n",
       "      <td>183.63</td>\n",
       "      <td>184.70</td>\n",
       "      <td>183.54</td>\n",
       "    </tr>\n",
       "    <tr>\n",
       "      <th>2024-05-23</th>\n",
       "      <td>183.66</td>\n",
       "      <td>184.76</td>\n",
       "      <td>180.08</td>\n",
       "      <td>181.05</td>\n",
       "      <td>33670173</td>\n",
       "      <td>182.3875</td>\n",
       "      <td>184.014683</td>\n",
       "      <td>182.902828</td>\n",
       "      <td>-91.652324</td>\n",
       "      <td>45.078326</td>\n",
       "      <td>10.263705</td>\n",
       "      <td>4.0</td>\n",
       "      <td>189.50</td>\n",
       "      <td>183.63</td>\n",
       "      <td>184.70</td>\n",
       "      <td>183.54</td>\n",
       "      <td>183.15</td>\n",
       "    </tr>\n",
       "    <tr>\n",
       "      <th>2024-05-24</th>\n",
       "      <td>181.65</td>\n",
       "      <td>182.44</td>\n",
       "      <td>180.30</td>\n",
       "      <td>180.75</td>\n",
       "      <td>27471640</td>\n",
       "      <td>181.2850</td>\n",
       "      <td>183.209854</td>\n",
       "      <td>181.918266</td>\n",
       "      <td>-94.234079</td>\n",
       "      <td>44.485397</td>\n",
       "      <td>9.974644</td>\n",
       "      <td>4.0</td>\n",
       "      <td>187.48</td>\n",
       "      <td>184.70</td>\n",
       "      <td>183.54</td>\n",
       "      <td>183.15</td>\n",
       "      <td>183.13</td>\n",
       "    </tr>\n",
       "    <tr>\n",
       "      <th>2024-05-25</th>\n",
       "      <td>181.65</td>\n",
       "      <td>182.44</td>\n",
       "      <td>180.30</td>\n",
       "      <td>180.75</td>\n",
       "      <td>27471640</td>\n",
       "      <td>181.2850</td>\n",
       "      <td>183.209854</td>\n",
       "      <td>181.918266</td>\n",
       "      <td>-94.234079</td>\n",
       "      <td>44.485397</td>\n",
       "      <td>9.974644</td>\n",
       "      <td>4.0</td>\n",
       "      <td>187.48</td>\n",
       "      <td>184.70</td>\n",
       "      <td>183.54</td>\n",
       "      <td>183.15</td>\n",
       "      <td>183.13</td>\n",
       "    </tr>\n",
       "    <tr>\n",
       "      <th>2024-05-26</th>\n",
       "      <td>181.65</td>\n",
       "      <td>182.44</td>\n",
       "      <td>180.30</td>\n",
       "      <td>180.75</td>\n",
       "      <td>27471640</td>\n",
       "      <td>181.2850</td>\n",
       "      <td>183.209854</td>\n",
       "      <td>181.918266</td>\n",
       "      <td>-94.234079</td>\n",
       "      <td>44.485397</td>\n",
       "      <td>9.974644</td>\n",
       "      <td>4.0</td>\n",
       "      <td>187.48</td>\n",
       "      <td>184.70</td>\n",
       "      <td>183.54</td>\n",
       "      <td>183.15</td>\n",
       "      <td>183.13</td>\n",
       "    </tr>\n",
       "    <tr>\n",
       "      <th>2024-05-27</th>\n",
       "      <td>181.65</td>\n",
       "      <td>182.44</td>\n",
       "      <td>180.30</td>\n",
       "      <td>180.75</td>\n",
       "      <td>27471640</td>\n",
       "      <td>181.2850</td>\n",
       "      <td>183.209854</td>\n",
       "      <td>181.918266</td>\n",
       "      <td>-94.234079</td>\n",
       "      <td>44.485397</td>\n",
       "      <td>9.974644</td>\n",
       "      <td>4.0</td>\n",
       "      <td>187.48</td>\n",
       "      <td>184.70</td>\n",
       "      <td>183.54</td>\n",
       "      <td>183.15</td>\n",
       "      <td>183.13</td>\n",
       "    </tr>\n",
       "    <tr>\n",
       "      <th>2024-05-28</th>\n",
       "      <td>179.93</td>\n",
       "      <td>182.24</td>\n",
       "      <td>179.49</td>\n",
       "      <td>182.15</td>\n",
       "      <td>29926963</td>\n",
       "      <td>180.9525</td>\n",
       "      <td>182.910052</td>\n",
       "      <td>181.689336</td>\n",
       "      <td>-78.214578</td>\n",
       "      <td>47.927580</td>\n",
       "      <td>9.946845</td>\n",
       "      <td>4.0</td>\n",
       "      <td>186.57</td>\n",
       "      <td>183.54</td>\n",
       "      <td>183.15</td>\n",
       "      <td>183.13</td>\n",
       "      <td>181.05</td>\n",
       "    </tr>\n",
       "    <tr>\n",
       "      <th>2024-05-29</th>\n",
       "      <td>181.70</td>\n",
       "      <td>184.08</td>\n",
       "      <td>181.55</td>\n",
       "      <td>182.02</td>\n",
       "      <td>32009294</td>\n",
       "      <td>182.3375</td>\n",
       "      <td>182.638999</td>\n",
       "      <td>181.498512</td>\n",
       "      <td>-79.279279</td>\n",
       "      <td>47.632237</td>\n",
       "      <td>9.288779</td>\n",
       "      <td>4.0</td>\n",
       "      <td>187.07</td>\n",
       "      <td>183.15</td>\n",
       "      <td>183.13</td>\n",
       "      <td>181.05</td>\n",
       "      <td>180.75</td>\n",
       "    </tr>\n",
       "  </tbody>\n",
       "</table>\n",
       "</div>"
      ],
      "text/plain": [
       "              open    high     low   close    volume      vwap        dema  \\\n",
       "date                                                                         \n",
       "2024-04-30  181.09  182.99  174.80  175.00  94639786  178.4700  177.664919   \n",
       "2024-05-01  181.64  185.15  176.56  179.00  94645148  180.5875  177.847222   \n",
       "2024-05-02  180.85  185.10  179.91  184.72  54303510  182.6450  179.428290   \n",
       "2024-05-03  186.99  187.87  185.42  186.21  39172004  186.6225  181.080767   \n",
       "2024-05-04  186.99  187.87  185.42  186.21  39172004  186.6225  181.080767   \n",
       "2024-05-05  186.99  187.87  185.42  186.21  39172004  186.6225  181.080767   \n",
       "2024-05-06  186.28  188.75  184.80  188.70  34725295  187.1325  183.032881   \n",
       "2024-05-07  188.92  189.94  187.31  188.76  34048902  188.7325  184.614817   \n",
       "2024-05-08  187.44  188.43  186.39  188.00  26136350  187.5650  185.687564   \n",
       "2024-05-09  188.88  191.70  187.44  189.50  43368377  189.3800  186.907759   \n",
       "2024-05-10  189.16  189.89  186.93  187.48  34141771  188.3650  187.367590   \n",
       "2024-05-11  189.16  189.89  186.93  187.48  34141771  188.3650  187.367590   \n",
       "2024-05-12  189.16  189.89  186.93  187.48  34141771  188.3650  187.367590   \n",
       "2024-05-13  188.00  188.31  185.36  186.57  24898613  187.0600  187.488483   \n",
       "2024-05-14  183.82  187.72  183.45  187.07  38698155  185.5150  187.687404   \n",
       "2024-05-15  185.97  186.72  182.73  185.99  75459927  185.3525  187.557039   \n",
       "2024-05-16  185.60  187.31  183.46  183.63  38834450  185.0000  186.843884   \n",
       "2024-05-17  183.76  185.30  183.35  184.70  33175655  184.2775  186.517401   \n",
       "2024-05-18  183.76  185.30  183.35  184.70  33175655  184.2775  186.517401   \n",
       "2024-05-19  183.76  185.30  183.35  184.70  33175655  184.2775  186.517401   \n",
       "2024-05-20  184.34  186.67  183.28  183.54  30511768  184.4575  185.951156   \n",
       "2024-05-21  182.30  183.26  180.75  183.15  50839129  182.3650  185.385911   \n",
       "2024-05-22  183.88  185.22  181.97  183.13  28148784  183.5500  184.916622   \n",
       "2024-05-23  183.66  184.76  180.08  181.05  33670173  182.3875  184.014683   \n",
       "2024-05-24  181.65  182.44  180.30  180.75  27471640  181.2850  183.209854   \n",
       "2024-05-25  181.65  182.44  180.30  180.75  27471640  181.2850  183.209854   \n",
       "2024-05-26  181.65  182.44  180.30  180.75  27471640  181.2850  183.209854   \n",
       "2024-05-27  181.65  182.44  180.30  180.75  27471640  181.2850  183.209854   \n",
       "2024-05-28  179.93  182.24  179.49  182.15  29926963  180.9525  182.910052   \n",
       "2024-05-29  181.70  184.08  181.55  182.02  32009294  182.3375  182.638999   \n",
       "\n",
       "                  tema   williams        rsi        adx  ratingScore  \\\n",
       "date                                                                   \n",
       "2024-04-30  176.176296 -62.985075  43.960961  23.940331          5.0   \n",
       "2024-05-01  176.710786 -43.316942  49.923865  22.845684          5.0   \n",
       "2024-05-02  179.148940 -17.746983  56.974298  21.829227          5.0   \n",
       "2024-05-03  181.522562  -7.703016  58.609099  20.277858          5.0   \n",
       "2024-05-04  181.522562  -7.703016  58.609099  20.277858          5.0   \n",
       "2024-05-05  181.522562  -7.703016  58.609099  20.277858          5.0   \n",
       "2024-05-06  184.171385  -0.222916  61.258291  19.028153          4.0   \n",
       "2024-05-07  186.154212  -4.995766  61.322530  18.128074          4.0   \n",
       "2024-05-08  187.330031  -8.213378  59.966162  17.062164          4.0   \n",
       "2024-05-09  188.676862  -8.668243  61.763770  16.790328          5.0   \n",
       "2024-05-10  188.915801 -16.627266  57.987631  16.399235          4.0   \n",
       "2024-05-11  188.915801 -16.627266  57.987631  16.399235          4.0   \n",
       "2024-05-12  188.915801 -16.627266  57.987631  16.399235          4.0   \n",
       "2024-05-13  188.707802 -20.212766  56.317195  15.608518          4.0   \n",
       "2024-05-14  188.661826 -18.242711  57.049308  14.608123          4.0   \n",
       "2024-05-15  188.192600 -33.786982  54.908653  13.862082          4.0   \n",
       "2024-05-16  186.966186 -47.751479  50.453520  13.002303          4.0   \n",
       "2024-05-17  186.381076 -41.420118  52.341581  12.235403          4.0   \n",
       "2024-05-18  186.381076 -41.420118  52.341581  12.235403          4.0   \n",
       "2024-05-19  186.381076 -41.420118  52.341581  12.235403          4.0   \n",
       "2024-05-20  185.511519 -53.896962  50.112095  11.614280          4.0   \n",
       "2024-05-21  184.706771 -72.519084  49.350990  11.282110          4.0   \n",
       "2024-05-22  184.089818 -78.264840  49.309629  10.575002          4.0   \n",
       "2024-05-23  182.902828 -91.652324  45.078326  10.263705          4.0   \n",
       "2024-05-24  181.918266 -94.234079  44.485397   9.974644          4.0   \n",
       "2024-05-25  181.918266 -94.234079  44.485397   9.974644          4.0   \n",
       "2024-05-26  181.918266 -94.234079  44.485397   9.974644          4.0   \n",
       "2024-05-27  181.918266 -94.234079  44.485397   9.974644          4.0   \n",
       "2024-05-28  181.689336 -78.214578  47.927580   9.946845          4.0   \n",
       "2024-05-29  181.498512 -79.279279  47.632237   9.288779          4.0   \n",
       "\n",
       "            minus_10_price  minus_5_price  minus_4_price  minus_3_price  \\\n",
       "date                                                                      \n",
       "2024-04-30          183.32         179.54         176.59         173.67   \n",
       "2024-05-01          181.28         176.59         173.67         179.62   \n",
       "2024-05-02          179.22         173.67         179.62         180.96   \n",
       "2024-05-03          174.63         179.62         180.96         175.00   \n",
       "2024-05-04          174.63         179.62         180.96         175.00   \n",
       "2024-05-05          174.63         179.62         180.96         175.00   \n",
       "2024-05-06          177.23         180.96         175.00         179.00   \n",
       "2024-05-07          179.54         175.00         179.00         184.72   \n",
       "2024-05-08          176.59         179.00         184.72         186.21   \n",
       "2024-05-09          173.67         184.72         186.21         188.70   \n",
       "2024-05-10          179.62         186.21         188.70         188.76   \n",
       "2024-05-11          179.62         186.21         188.70         188.76   \n",
       "2024-05-12          179.62         186.21         188.70         188.76   \n",
       "2024-05-13          180.96         188.70         188.76         188.00   \n",
       "2024-05-14          175.00         188.76         188.00         189.50   \n",
       "2024-05-15          179.00         188.00         189.50         187.48   \n",
       "2024-05-16          184.72         189.50         187.48         186.57   \n",
       "2024-05-17          186.21         187.48         186.57         187.07   \n",
       "2024-05-18          186.21         187.48         186.57         187.07   \n",
       "2024-05-19          186.21         187.48         186.57         187.07   \n",
       "2024-05-20          188.70         186.57         187.07         185.99   \n",
       "2024-05-21          188.76         187.07         185.99         183.63   \n",
       "2024-05-22          188.00         185.99         183.63         184.70   \n",
       "2024-05-23          189.50         183.63         184.70         183.54   \n",
       "2024-05-24          187.48         184.70         183.54         183.15   \n",
       "2024-05-25          187.48         184.70         183.54         183.15   \n",
       "2024-05-26          187.48         184.70         183.54         183.15   \n",
       "2024-05-27          187.48         184.70         183.54         183.15   \n",
       "2024-05-28          186.57         183.54         183.15         183.13   \n",
       "2024-05-29          187.07         183.15         183.13         181.05   \n",
       "\n",
       "            minus_2_price  \n",
       "date                       \n",
       "2024-04-30         179.62  \n",
       "2024-05-01         180.96  \n",
       "2024-05-02         175.00  \n",
       "2024-05-03         179.00  \n",
       "2024-05-04         179.00  \n",
       "2024-05-05         179.00  \n",
       "2024-05-06         184.72  \n",
       "2024-05-07         186.21  \n",
       "2024-05-08         188.70  \n",
       "2024-05-09         188.76  \n",
       "2024-05-10         188.00  \n",
       "2024-05-11         188.00  \n",
       "2024-05-12         188.00  \n",
       "2024-05-13         189.50  \n",
       "2024-05-14         187.48  \n",
       "2024-05-15         186.57  \n",
       "2024-05-16         187.07  \n",
       "2024-05-17         185.99  \n",
       "2024-05-18         185.99  \n",
       "2024-05-19         185.99  \n",
       "2024-05-20         183.63  \n",
       "2024-05-21         184.70  \n",
       "2024-05-22         183.54  \n",
       "2024-05-23         183.15  \n",
       "2024-05-24         183.13  \n",
       "2024-05-25         183.13  \n",
       "2024-05-26         183.13  \n",
       "2024-05-27         183.13  \n",
       "2024-05-28         181.05  \n",
       "2024-05-29         180.75  "
      ]
     },
     "execution_count": 207,
     "metadata": {},
     "output_type": "execute_result"
    }
   ],
   "source": [
    "all_data = all_data.iloc[-30:]\n",
    "all_data"
   ]
  },
  {
   "cell_type": "code",
   "execution_count": 200,
   "id": "5df03fc9-f02f-4d48-b206-a5e70e7704f5",
   "metadata": {},
   "outputs": [
    {
     "data": {
      "text/html": [
       "<div>\n",
       "<style scoped>\n",
       "    .dataframe tbody tr th:only-of-type {\n",
       "        vertical-align: middle;\n",
       "    }\n",
       "\n",
       "    .dataframe tbody tr th {\n",
       "        vertical-align: top;\n",
       "    }\n",
       "\n",
       "    .dataframe thead th {\n",
       "        text-align: right;\n",
       "    }\n",
       "</style>\n",
       "<table border=\"1\" class=\"dataframe\">\n",
       "  <thead>\n",
       "    <tr style=\"text-align: right;\">\n",
       "      <th></th>\n",
       "      <th>close</th>\n",
       "    </tr>\n",
       "  </thead>\n",
       "  <tbody>\n",
       "    <tr>\n",
       "      <th>2024-01-17</th>\n",
       "      <td>151.710000</td>\n",
       "    </tr>\n",
       "    <tr>\n",
       "      <th>2024-01-18</th>\n",
       "      <td>153.500000</td>\n",
       "    </tr>\n",
       "    <tr>\n",
       "      <th>2024-01-19</th>\n",
       "      <td>155.340000</td>\n",
       "    </tr>\n",
       "    <tr>\n",
       "      <th>2024-01-20</th>\n",
       "      <td>155.340000</td>\n",
       "    </tr>\n",
       "    <tr>\n",
       "      <th>2024-01-21</th>\n",
       "      <td>155.340000</td>\n",
       "    </tr>\n",
       "    <tr>\n",
       "      <th>...</th>\n",
       "      <td>...</td>\n",
       "    </tr>\n",
       "    <tr>\n",
       "      <th>2024-06-27</th>\n",
       "      <td>197.850000</td>\n",
       "    </tr>\n",
       "    <tr>\n",
       "      <th>2024-06-28</th>\n",
       "      <td>193.250000</td>\n",
       "    </tr>\n",
       "    <tr>\n",
       "      <th>2024-06-29</th>\n",
       "      <td>192.576897</td>\n",
       "    </tr>\n",
       "    <tr>\n",
       "      <th>2024-06-30</th>\n",
       "      <td>198.671286</td>\n",
       "    </tr>\n",
       "    <tr>\n",
       "      <th>2024-07-01</th>\n",
       "      <td>196.854938</td>\n",
       "    </tr>\n",
       "  </tbody>\n",
       "</table>\n",
       "<p>167 rows × 1 columns</p>\n",
       "</div>"
      ],
      "text/plain": [
       "                 close\n",
       "2024-01-17  151.710000\n",
       "2024-01-18  153.500000\n",
       "2024-01-19  155.340000\n",
       "2024-01-20  155.340000\n",
       "2024-01-21  155.340000\n",
       "...                ...\n",
       "2024-06-27  197.850000\n",
       "2024-06-28  193.250000\n",
       "2024-06-29  192.576897\n",
       "2024-06-30  198.671286\n",
       "2024-07-01  196.854938\n",
       "\n",
       "[167 rows x 1 columns]"
      ]
     },
     "execution_count": 200,
     "metadata": {},
     "output_type": "execute_result"
    }
   ],
   "source": [
    "pred = predict('AMZN', all_data)\n",
    "pred"
   ]
  },
  {
   "cell_type": "code",
   "execution_count": 201,
   "id": "e6b1da5e-fdff-40d0-815c-5e23309e7f7e",
   "metadata": {},
   "outputs": [
    {
     "data": {
      "text/html": [
       "<div>\n",
       "<style scoped>\n",
       "    .dataframe tbody tr th:only-of-type {\n",
       "        vertical-align: middle;\n",
       "    }\n",
       "\n",
       "    .dataframe tbody tr th {\n",
       "        vertical-align: top;\n",
       "    }\n",
       "\n",
       "    .dataframe thead th {\n",
       "        text-align: right;\n",
       "    }\n",
       "</style>\n",
       "<table border=\"1\" class=\"dataframe\">\n",
       "  <thead>\n",
       "    <tr style=\"text-align: right;\">\n",
       "      <th></th>\n",
       "      <th>open</th>\n",
       "      <th>high</th>\n",
       "      <th>low</th>\n",
       "      <th>close</th>\n",
       "      <th>volume</th>\n",
       "      <th>vwap</th>\n",
       "      <th>dema</th>\n",
       "      <th>tema</th>\n",
       "      <th>williams</th>\n",
       "      <th>rsi</th>\n",
       "      <th>adx</th>\n",
       "      <th>ratingScore</th>\n",
       "      <th>minus_10_price</th>\n",
       "      <th>minus_5_price</th>\n",
       "      <th>minus_4_price</th>\n",
       "      <th>minus_3_price</th>\n",
       "      <th>minus_2_price</th>\n",
       "    </tr>\n",
       "    <tr>\n",
       "      <th>date</th>\n",
       "      <th></th>\n",
       "      <th></th>\n",
       "      <th></th>\n",
       "      <th></th>\n",
       "      <th></th>\n",
       "      <th></th>\n",
       "      <th></th>\n",
       "      <th></th>\n",
       "      <th></th>\n",
       "      <th></th>\n",
       "      <th></th>\n",
       "      <th></th>\n",
       "      <th></th>\n",
       "      <th></th>\n",
       "      <th></th>\n",
       "      <th></th>\n",
       "      <th></th>\n",
       "    </tr>\n",
       "  </thead>\n",
       "  <tbody>\n",
       "    <tr>\n",
       "      <th>2024-06-24</th>\n",
       "      <td>189.33</td>\n",
       "      <td>191.00</td>\n",
       "      <td>185.33</td>\n",
       "      <td>185.57</td>\n",
       "      <td>50610379</td>\n",
       "      <td>187.8075</td>\n",
       "      <td>185.944785</td>\n",
       "      <td>186.558758</td>\n",
       "      <td>-37.293956</td>\n",
       "      <td>53.350689</td>\n",
       "      <td>12.457241</td>\n",
       "      <td>4.0</td>\n",
       "      <td>184.30</td>\n",
       "      <td>183.66</td>\n",
       "      <td>184.06</td>\n",
       "      <td>182.81</td>\n",
       "      <td>186.10</td>\n",
       "    </tr>\n",
       "    <tr>\n",
       "      <th>2024-06-25</th>\n",
       "      <td>186.81</td>\n",
       "      <td>188.84</td>\n",
       "      <td>185.42</td>\n",
       "      <td>186.34</td>\n",
       "      <td>45898475</td>\n",
       "      <td>186.8525</td>\n",
       "      <td>186.177019</td>\n",
       "      <td>186.730859</td>\n",
       "      <td>-38.040816</td>\n",
       "      <td>54.803696</td>\n",
       "      <td>13.782265</td>\n",
       "      <td>4.0</td>\n",
       "      <td>187.06</td>\n",
       "      <td>184.06</td>\n",
       "      <td>182.81</td>\n",
       "      <td>186.10</td>\n",
       "      <td>189.08</td>\n",
       "    </tr>\n",
       "    <tr>\n",
       "      <th>2024-06-26</th>\n",
       "      <td>186.92</td>\n",
       "      <td>194.80</td>\n",
       "      <td>186.26</td>\n",
       "      <td>193.61</td>\n",
       "      <td>65103893</td>\n",
       "      <td>190.3975</td>\n",
       "      <td>188.163772</td>\n",
       "      <td>189.369931</td>\n",
       "      <td>-8.762887</td>\n",
       "      <td>65.674613</td>\n",
       "      <td>16.168688</td>\n",
       "      <td>4.0</td>\n",
       "      <td>187.23</td>\n",
       "      <td>182.81</td>\n",
       "      <td>186.10</td>\n",
       "      <td>189.08</td>\n",
       "      <td>185.57</td>\n",
       "    </tr>\n",
       "    <tr>\n",
       "      <th>2024-06-27</th>\n",
       "      <td>195.01</td>\n",
       "      <td>199.84</td>\n",
       "      <td>194.20</td>\n",
       "      <td>197.85</td>\n",
       "      <td>74397491</td>\n",
       "      <td>196.7250</td>\n",
       "      <td>190.808155</td>\n",
       "      <td>192.792405</td>\n",
       "      <td>-10.687433</td>\n",
       "      <td>70.179594</td>\n",
       "      <td>19.048628</td>\n",
       "      <td>4.0</td>\n",
       "      <td>186.89</td>\n",
       "      <td>186.10</td>\n",
       "      <td>189.08</td>\n",
       "      <td>185.57</td>\n",
       "      <td>186.34</td>\n",
       "    </tr>\n",
       "    <tr>\n",
       "      <th>2024-06-28</th>\n",
       "      <td>197.73</td>\n",
       "      <td>198.85</td>\n",
       "      <td>192.50</td>\n",
       "      <td>193.25</td>\n",
       "      <td>76897093</td>\n",
       "      <td>195.5825</td>\n",
       "      <td>191.774680</td>\n",
       "      <td>193.691073</td>\n",
       "      <td>-35.392052</td>\n",
       "      <td>60.849031</td>\n",
       "      <td>21.051089</td>\n",
       "      <td>4.0</td>\n",
       "      <td>183.83</td>\n",
       "      <td>189.08</td>\n",
       "      <td>185.57</td>\n",
       "      <td>186.34</td>\n",
       "      <td>193.61</td>\n",
       "    </tr>\n",
       "  </tbody>\n",
       "</table>\n",
       "</div>"
      ],
      "text/plain": [
       "              open    high     low   close    volume      vwap        dema  \\\n",
       "date                                                                         \n",
       "2024-06-24  189.33  191.00  185.33  185.57  50610379  187.8075  185.944785   \n",
       "2024-06-25  186.81  188.84  185.42  186.34  45898475  186.8525  186.177019   \n",
       "2024-06-26  186.92  194.80  186.26  193.61  65103893  190.3975  188.163772   \n",
       "2024-06-27  195.01  199.84  194.20  197.85  74397491  196.7250  190.808155   \n",
       "2024-06-28  197.73  198.85  192.50  193.25  76897093  195.5825  191.774680   \n",
       "\n",
       "                  tema   williams        rsi        adx  ratingScore  \\\n",
       "date                                                                   \n",
       "2024-06-24  186.558758 -37.293956  53.350689  12.457241          4.0   \n",
       "2024-06-25  186.730859 -38.040816  54.803696  13.782265          4.0   \n",
       "2024-06-26  189.369931  -8.762887  65.674613  16.168688          4.0   \n",
       "2024-06-27  192.792405 -10.687433  70.179594  19.048628          4.0   \n",
       "2024-06-28  193.691073 -35.392052  60.849031  21.051089          4.0   \n",
       "\n",
       "            minus_10_price  minus_5_price  minus_4_price  minus_3_price  \\\n",
       "date                                                                      \n",
       "2024-06-24          184.30         183.66         184.06         182.81   \n",
       "2024-06-25          187.06         184.06         182.81         186.10   \n",
       "2024-06-26          187.23         182.81         186.10         189.08   \n",
       "2024-06-27          186.89         186.10         189.08         185.57   \n",
       "2024-06-28          183.83         189.08         185.57         186.34   \n",
       "\n",
       "            minus_2_price  \n",
       "date                       \n",
       "2024-06-24         186.10  \n",
       "2024-06-25         189.08  \n",
       "2024-06-26         185.57  \n",
       "2024-06-27         186.34  \n",
       "2024-06-28         193.61  "
      ]
     },
     "execution_count": 201,
     "metadata": {},
     "output_type": "execute_result"
    }
   ],
   "source": [
    "all_data.tail()"
   ]
  },
  {
   "cell_type": "code",
   "execution_count": 202,
   "id": "df559d8d-2f82-4792-bdb8-683936198739",
   "metadata": {},
   "outputs": [
    {
     "data": {
      "application/vnd.plotly.v1+json": {
       "config": {
        "plotlyServerURL": "https://plot.ly"
       },
       "data": [
        {
         "mode": "lines",
         "name": "Actual",
         "type": "scatter",
         "x": [
          "2024-01-17T00:00:00",
          "2024-01-18T00:00:00",
          "2024-01-19T00:00:00",
          "2024-01-20T00:00:00",
          "2024-01-21T00:00:00",
          "2024-01-22T00:00:00",
          "2024-01-23T00:00:00",
          "2024-01-24T00:00:00",
          "2024-01-25T00:00:00",
          "2024-01-26T00:00:00",
          "2024-01-27T00:00:00",
          "2024-01-28T00:00:00",
          "2024-01-29T00:00:00",
          "2024-01-30T00:00:00",
          "2024-01-31T00:00:00",
          "2024-02-01T00:00:00",
          "2024-02-02T00:00:00",
          "2024-02-03T00:00:00",
          "2024-02-04T00:00:00",
          "2024-02-05T00:00:00",
          "2024-02-06T00:00:00",
          "2024-02-07T00:00:00",
          "2024-02-08T00:00:00",
          "2024-02-09T00:00:00",
          "2024-02-10T00:00:00",
          "2024-02-11T00:00:00",
          "2024-02-12T00:00:00",
          "2024-02-13T00:00:00",
          "2024-02-14T00:00:00",
          "2024-02-15T00:00:00",
          "2024-02-16T00:00:00",
          "2024-02-17T00:00:00",
          "2024-02-18T00:00:00",
          "2024-02-19T00:00:00",
          "2024-02-20T00:00:00",
          "2024-02-21T00:00:00",
          "2024-02-22T00:00:00",
          "2024-02-23T00:00:00",
          "2024-02-24T00:00:00",
          "2024-02-25T00:00:00",
          "2024-02-26T00:00:00",
          "2024-02-27T00:00:00",
          "2024-02-28T00:00:00",
          "2024-02-29T00:00:00",
          "2024-03-01T00:00:00",
          "2024-03-02T00:00:00",
          "2024-03-03T00:00:00",
          "2024-03-04T00:00:00",
          "2024-03-05T00:00:00",
          "2024-03-06T00:00:00",
          "2024-03-07T00:00:00",
          "2024-03-08T00:00:00",
          "2024-03-09T00:00:00",
          "2024-03-10T00:00:00",
          "2024-03-11T00:00:00",
          "2024-03-12T00:00:00",
          "2024-03-13T00:00:00",
          "2024-03-14T00:00:00",
          "2024-03-15T00:00:00",
          "2024-03-16T00:00:00",
          "2024-03-17T00:00:00",
          "2024-03-18T00:00:00",
          "2024-03-19T00:00:00",
          "2024-03-20T00:00:00",
          "2024-03-21T00:00:00",
          "2024-03-22T00:00:00",
          "2024-03-23T00:00:00",
          "2024-03-24T00:00:00",
          "2024-03-25T00:00:00",
          "2024-03-26T00:00:00",
          "2024-03-27T00:00:00",
          "2024-03-28T00:00:00",
          "2024-03-29T00:00:00",
          "2024-03-30T00:00:00",
          "2024-03-31T00:00:00",
          "2024-04-01T00:00:00",
          "2024-04-02T00:00:00",
          "2024-04-03T00:00:00",
          "2024-04-04T00:00:00",
          "2024-04-05T00:00:00",
          "2024-04-06T00:00:00",
          "2024-04-07T00:00:00",
          "2024-04-08T00:00:00",
          "2024-04-09T00:00:00",
          "2024-04-10T00:00:00",
          "2024-04-11T00:00:00",
          "2024-04-12T00:00:00",
          "2024-04-13T00:00:00",
          "2024-04-14T00:00:00",
          "2024-04-15T00:00:00",
          "2024-04-16T00:00:00",
          "2024-04-17T00:00:00",
          "2024-04-18T00:00:00",
          "2024-04-19T00:00:00",
          "2024-04-20T00:00:00",
          "2024-04-21T00:00:00",
          "2024-04-22T00:00:00",
          "2024-04-23T00:00:00",
          "2024-04-24T00:00:00",
          "2024-04-25T00:00:00",
          "2024-04-26T00:00:00",
          "2024-04-27T00:00:00",
          "2024-04-28T00:00:00",
          "2024-04-29T00:00:00",
          "2024-04-30T00:00:00",
          "2024-05-01T00:00:00",
          "2024-05-02T00:00:00",
          "2024-05-03T00:00:00",
          "2024-05-04T00:00:00",
          "2024-05-05T00:00:00",
          "2024-05-06T00:00:00",
          "2024-05-07T00:00:00",
          "2024-05-08T00:00:00",
          "2024-05-09T00:00:00",
          "2024-05-10T00:00:00",
          "2024-05-11T00:00:00",
          "2024-05-12T00:00:00",
          "2024-05-13T00:00:00",
          "2024-05-14T00:00:00",
          "2024-05-15T00:00:00",
          "2024-05-16T00:00:00",
          "2024-05-17T00:00:00",
          "2024-05-18T00:00:00",
          "2024-05-19T00:00:00",
          "2024-05-20T00:00:00",
          "2024-05-21T00:00:00",
          "2024-05-22T00:00:00",
          "2024-05-23T00:00:00",
          "2024-05-24T00:00:00",
          "2024-05-25T00:00:00",
          "2024-05-26T00:00:00",
          "2024-05-27T00:00:00",
          "2024-05-28T00:00:00",
          "2024-05-29T00:00:00",
          "2024-05-30T00:00:00",
          "2024-05-31T00:00:00",
          "2024-06-01T00:00:00",
          "2024-06-02T00:00:00",
          "2024-06-03T00:00:00",
          "2024-06-04T00:00:00",
          "2024-06-05T00:00:00",
          "2024-06-06T00:00:00",
          "2024-06-07T00:00:00",
          "2024-06-08T00:00:00",
          "2024-06-09T00:00:00",
          "2024-06-10T00:00:00",
          "2024-06-11T00:00:00",
          "2024-06-12T00:00:00",
          "2024-06-13T00:00:00",
          "2024-06-14T00:00:00",
          "2024-06-15T00:00:00",
          "2024-06-16T00:00:00",
          "2024-06-17T00:00:00",
          "2024-06-18T00:00:00",
          "2024-06-19T00:00:00",
          "2024-06-20T00:00:00",
          "2024-06-21T00:00:00",
          "2024-06-22T00:00:00",
          "2024-06-23T00:00:00",
          "2024-06-24T00:00:00",
          "2024-06-25T00:00:00",
          "2024-06-26T00:00:00",
          "2024-06-27T00:00:00",
          "2024-06-28T00:00:00"
         ],
         "y": [
          151.71,
          153.5,
          155.34,
          155.34,
          155.34,
          154.78,
          156.02,
          156.87,
          157.75,
          159.12,
          159.12,
          159.12,
          161.26,
          159,
          155.2,
          159.28,
          171.81,
          171.81,
          171.81,
          170.31,
          169.15,
          170.53,
          169.84,
          174.45,
          174.45,
          174.45,
          172.34,
          168.64,
          170.98,
          169.8,
          169.51,
          169.51,
          169.51,
          169.51,
          167.08,
          168.59,
          174.58,
          174.99,
          174.99,
          174.99,
          174.73,
          173.54,
          173.16,
          176.76,
          178.22,
          178.22,
          178.22,
          177.58,
          174.12,
          173.51,
          176.82,
          176.82,
          176.82,
          176.82,
          171.96,
          175.39,
          176.56,
          178.75,
          174.42,
          174.42,
          174.42,
          174.48,
          175.9,
          178.15,
          178.15,
          178.15,
          178.15,
          178.15,
          179.71,
          178.3,
          179.83,
          180.38,
          180.38,
          180.38,
          180.38,
          180.97,
          180.69,
          182.41,
          180,
          185.07,
          185.07,
          185.07,
          185.19,
          185.67,
          185.95,
          189.05,
          186.13,
          186.13,
          186.13,
          183.62,
          183.32,
          181.28,
          179.22,
          174.63,
          174.63,
          174.63,
          177.23,
          179.54,
          176.59,
          173.67,
          179.62,
          179.62,
          179.62,
          180.96,
          175,
          179,
          184.72,
          186.21,
          186.21,
          186.21,
          188.7,
          188.76,
          188,
          189.5,
          187.48,
          187.48,
          187.48,
          186.57,
          187.07,
          185.99,
          183.63,
          184.7,
          184.7,
          184.7,
          183.54,
          183.15,
          183.13,
          181.05,
          180.75,
          180.75,
          180.75,
          180.75,
          182.15,
          182.02,
          179.32,
          176.44,
          176.44,
          176.44,
          178.34,
          179.34,
          181.28,
          181.28,
          184.3,
          184.3,
          184.3,
          187.06,
          187.23,
          186.89,
          183.83,
          183.66,
          183.66,
          183.66,
          184.06,
          182.81,
          182.81,
          186.1,
          189.08,
          189.08,
          189.08,
          185.57,
          186.34,
          193.61,
          197.85,
          193.25
         ]
        },
        {
         "line": {
          "color": "red"
         },
         "mode": "lines",
         "name": "Predicted",
         "type": "scatter",
         "x": [
          "2024-06-28T00:00:00",
          "2024-06-29T00:00:00",
          "2024-06-30T00:00:00",
          "2024-07-01T00:00:00"
         ],
         "y": [
          193.25,
          192.5768973880891,
          198.6712858546484,
          196.85493822572172
         ]
        }
       ],
       "layout": {
        "autosize": true,
        "shapes": [
         {
          "fillcolor": "red",
          "layer": "below",
          "line": {
           "width": 0
          },
          "opacity": 0.2,
          "type": "rect",
          "x0": "2024-06-28T00:00:00",
          "x1": "2024-07-01T00:00:00",
          "xref": "x",
          "y0": 0,
          "y1": 1,
          "yref": "y domain"
         }
        ],
        "template": {
         "data": {
          "bar": [
           {
            "error_x": {
             "color": "#2a3f5f"
            },
            "error_y": {
             "color": "#2a3f5f"
            },
            "marker": {
             "line": {
              "color": "#E5ECF6",
              "width": 0.5
             },
             "pattern": {
              "fillmode": "overlay",
              "size": 10,
              "solidity": 0.2
             }
            },
            "type": "bar"
           }
          ],
          "barpolar": [
           {
            "marker": {
             "line": {
              "color": "#E5ECF6",
              "width": 0.5
             },
             "pattern": {
              "fillmode": "overlay",
              "size": 10,
              "solidity": 0.2
             }
            },
            "type": "barpolar"
           }
          ],
          "carpet": [
           {
            "aaxis": {
             "endlinecolor": "#2a3f5f",
             "gridcolor": "white",
             "linecolor": "white",
             "minorgridcolor": "white",
             "startlinecolor": "#2a3f5f"
            },
            "baxis": {
             "endlinecolor": "#2a3f5f",
             "gridcolor": "white",
             "linecolor": "white",
             "minorgridcolor": "white",
             "startlinecolor": "#2a3f5f"
            },
            "type": "carpet"
           }
          ],
          "choropleth": [
           {
            "colorbar": {
             "outlinewidth": 0,
             "ticks": ""
            },
            "type": "choropleth"
           }
          ],
          "contour": [
           {
            "colorbar": {
             "outlinewidth": 0,
             "ticks": ""
            },
            "colorscale": [
             [
              0,
              "#0d0887"
             ],
             [
              0.1111111111111111,
              "#46039f"
             ],
             [
              0.2222222222222222,
              "#7201a8"
             ],
             [
              0.3333333333333333,
              "#9c179e"
             ],
             [
              0.4444444444444444,
              "#bd3786"
             ],
             [
              0.5555555555555556,
              "#d8576b"
             ],
             [
              0.6666666666666666,
              "#ed7953"
             ],
             [
              0.7777777777777778,
              "#fb9f3a"
             ],
             [
              0.8888888888888888,
              "#fdca26"
             ],
             [
              1,
              "#f0f921"
             ]
            ],
            "type": "contour"
           }
          ],
          "contourcarpet": [
           {
            "colorbar": {
             "outlinewidth": 0,
             "ticks": ""
            },
            "type": "contourcarpet"
           }
          ],
          "heatmap": [
           {
            "colorbar": {
             "outlinewidth": 0,
             "ticks": ""
            },
            "colorscale": [
             [
              0,
              "#0d0887"
             ],
             [
              0.1111111111111111,
              "#46039f"
             ],
             [
              0.2222222222222222,
              "#7201a8"
             ],
             [
              0.3333333333333333,
              "#9c179e"
             ],
             [
              0.4444444444444444,
              "#bd3786"
             ],
             [
              0.5555555555555556,
              "#d8576b"
             ],
             [
              0.6666666666666666,
              "#ed7953"
             ],
             [
              0.7777777777777778,
              "#fb9f3a"
             ],
             [
              0.8888888888888888,
              "#fdca26"
             ],
             [
              1,
              "#f0f921"
             ]
            ],
            "type": "heatmap"
           }
          ],
          "heatmapgl": [
           {
            "colorbar": {
             "outlinewidth": 0,
             "ticks": ""
            },
            "colorscale": [
             [
              0,
              "#0d0887"
             ],
             [
              0.1111111111111111,
              "#46039f"
             ],
             [
              0.2222222222222222,
              "#7201a8"
             ],
             [
              0.3333333333333333,
              "#9c179e"
             ],
             [
              0.4444444444444444,
              "#bd3786"
             ],
             [
              0.5555555555555556,
              "#d8576b"
             ],
             [
              0.6666666666666666,
              "#ed7953"
             ],
             [
              0.7777777777777778,
              "#fb9f3a"
             ],
             [
              0.8888888888888888,
              "#fdca26"
             ],
             [
              1,
              "#f0f921"
             ]
            ],
            "type": "heatmapgl"
           }
          ],
          "histogram": [
           {
            "marker": {
             "pattern": {
              "fillmode": "overlay",
              "size": 10,
              "solidity": 0.2
             }
            },
            "type": "histogram"
           }
          ],
          "histogram2d": [
           {
            "colorbar": {
             "outlinewidth": 0,
             "ticks": ""
            },
            "colorscale": [
             [
              0,
              "#0d0887"
             ],
             [
              0.1111111111111111,
              "#46039f"
             ],
             [
              0.2222222222222222,
              "#7201a8"
             ],
             [
              0.3333333333333333,
              "#9c179e"
             ],
             [
              0.4444444444444444,
              "#bd3786"
             ],
             [
              0.5555555555555556,
              "#d8576b"
             ],
             [
              0.6666666666666666,
              "#ed7953"
             ],
             [
              0.7777777777777778,
              "#fb9f3a"
             ],
             [
              0.8888888888888888,
              "#fdca26"
             ],
             [
              1,
              "#f0f921"
             ]
            ],
            "type": "histogram2d"
           }
          ],
          "histogram2dcontour": [
           {
            "colorbar": {
             "outlinewidth": 0,
             "ticks": ""
            },
            "colorscale": [
             [
              0,
              "#0d0887"
             ],
             [
              0.1111111111111111,
              "#46039f"
             ],
             [
              0.2222222222222222,
              "#7201a8"
             ],
             [
              0.3333333333333333,
              "#9c179e"
             ],
             [
              0.4444444444444444,
              "#bd3786"
             ],
             [
              0.5555555555555556,
              "#d8576b"
             ],
             [
              0.6666666666666666,
              "#ed7953"
             ],
             [
              0.7777777777777778,
              "#fb9f3a"
             ],
             [
              0.8888888888888888,
              "#fdca26"
             ],
             [
              1,
              "#f0f921"
             ]
            ],
            "type": "histogram2dcontour"
           }
          ],
          "mesh3d": [
           {
            "colorbar": {
             "outlinewidth": 0,
             "ticks": ""
            },
            "type": "mesh3d"
           }
          ],
          "parcoords": [
           {
            "line": {
             "colorbar": {
              "outlinewidth": 0,
              "ticks": ""
             }
            },
            "type": "parcoords"
           }
          ],
          "pie": [
           {
            "automargin": true,
            "type": "pie"
           }
          ],
          "scatter": [
           {
            "fillpattern": {
             "fillmode": "overlay",
             "size": 10,
             "solidity": 0.2
            },
            "type": "scatter"
           }
          ],
          "scatter3d": [
           {
            "line": {
             "colorbar": {
              "outlinewidth": 0,
              "ticks": ""
             }
            },
            "marker": {
             "colorbar": {
              "outlinewidth": 0,
              "ticks": ""
             }
            },
            "type": "scatter3d"
           }
          ],
          "scattercarpet": [
           {
            "marker": {
             "colorbar": {
              "outlinewidth": 0,
              "ticks": ""
             }
            },
            "type": "scattercarpet"
           }
          ],
          "scattergeo": [
           {
            "marker": {
             "colorbar": {
              "outlinewidth": 0,
              "ticks": ""
             }
            },
            "type": "scattergeo"
           }
          ],
          "scattergl": [
           {
            "marker": {
             "colorbar": {
              "outlinewidth": 0,
              "ticks": ""
             }
            },
            "type": "scattergl"
           }
          ],
          "scattermapbox": [
           {
            "marker": {
             "colorbar": {
              "outlinewidth": 0,
              "ticks": ""
             }
            },
            "type": "scattermapbox"
           }
          ],
          "scatterpolar": [
           {
            "marker": {
             "colorbar": {
              "outlinewidth": 0,
              "ticks": ""
             }
            },
            "type": "scatterpolar"
           }
          ],
          "scatterpolargl": [
           {
            "marker": {
             "colorbar": {
              "outlinewidth": 0,
              "ticks": ""
             }
            },
            "type": "scatterpolargl"
           }
          ],
          "scatterternary": [
           {
            "marker": {
             "colorbar": {
              "outlinewidth": 0,
              "ticks": ""
             }
            },
            "type": "scatterternary"
           }
          ],
          "surface": [
           {
            "colorbar": {
             "outlinewidth": 0,
             "ticks": ""
            },
            "colorscale": [
             [
              0,
              "#0d0887"
             ],
             [
              0.1111111111111111,
              "#46039f"
             ],
             [
              0.2222222222222222,
              "#7201a8"
             ],
             [
              0.3333333333333333,
              "#9c179e"
             ],
             [
              0.4444444444444444,
              "#bd3786"
             ],
             [
              0.5555555555555556,
              "#d8576b"
             ],
             [
              0.6666666666666666,
              "#ed7953"
             ],
             [
              0.7777777777777778,
              "#fb9f3a"
             ],
             [
              0.8888888888888888,
              "#fdca26"
             ],
             [
              1,
              "#f0f921"
             ]
            ],
            "type": "surface"
           }
          ],
          "table": [
           {
            "cells": {
             "fill": {
              "color": "#EBF0F8"
             },
             "line": {
              "color": "white"
             }
            },
            "header": {
             "fill": {
              "color": "#C8D4E3"
             },
             "line": {
              "color": "white"
             }
            },
            "type": "table"
           }
          ]
         },
         "layout": {
          "annotationdefaults": {
           "arrowcolor": "#2a3f5f",
           "arrowhead": 0,
           "arrowwidth": 1
          },
          "autotypenumbers": "strict",
          "coloraxis": {
           "colorbar": {
            "outlinewidth": 0,
            "ticks": ""
           }
          },
          "colorscale": {
           "diverging": [
            [
             0,
             "#8e0152"
            ],
            [
             0.1,
             "#c51b7d"
            ],
            [
             0.2,
             "#de77ae"
            ],
            [
             0.3,
             "#f1b6da"
            ],
            [
             0.4,
             "#fde0ef"
            ],
            [
             0.5,
             "#f7f7f7"
            ],
            [
             0.6,
             "#e6f5d0"
            ],
            [
             0.7,
             "#b8e186"
            ],
            [
             0.8,
             "#7fbc41"
            ],
            [
             0.9,
             "#4d9221"
            ],
            [
             1,
             "#276419"
            ]
           ],
           "sequential": [
            [
             0,
             "#0d0887"
            ],
            [
             0.1111111111111111,
             "#46039f"
            ],
            [
             0.2222222222222222,
             "#7201a8"
            ],
            [
             0.3333333333333333,
             "#9c179e"
            ],
            [
             0.4444444444444444,
             "#bd3786"
            ],
            [
             0.5555555555555556,
             "#d8576b"
            ],
            [
             0.6666666666666666,
             "#ed7953"
            ],
            [
             0.7777777777777778,
             "#fb9f3a"
            ],
            [
             0.8888888888888888,
             "#fdca26"
            ],
            [
             1,
             "#f0f921"
            ]
           ],
           "sequentialminus": [
            [
             0,
             "#0d0887"
            ],
            [
             0.1111111111111111,
             "#46039f"
            ],
            [
             0.2222222222222222,
             "#7201a8"
            ],
            [
             0.3333333333333333,
             "#9c179e"
            ],
            [
             0.4444444444444444,
             "#bd3786"
            ],
            [
             0.5555555555555556,
             "#d8576b"
            ],
            [
             0.6666666666666666,
             "#ed7953"
            ],
            [
             0.7777777777777778,
             "#fb9f3a"
            ],
            [
             0.8888888888888888,
             "#fdca26"
            ],
            [
             1,
             "#f0f921"
            ]
           ]
          },
          "colorway": [
           "#636efa",
           "#EF553B",
           "#00cc96",
           "#ab63fa",
           "#FFA15A",
           "#19d3f3",
           "#FF6692",
           "#B6E880",
           "#FF97FF",
           "#FECB52"
          ],
          "font": {
           "color": "#2a3f5f"
          },
          "geo": {
           "bgcolor": "white",
           "lakecolor": "white",
           "landcolor": "#E5ECF6",
           "showlakes": true,
           "showland": true,
           "subunitcolor": "white"
          },
          "hoverlabel": {
           "align": "left"
          },
          "hovermode": "closest",
          "mapbox": {
           "style": "light"
          },
          "paper_bgcolor": "white",
          "plot_bgcolor": "#E5ECF6",
          "polar": {
           "angularaxis": {
            "gridcolor": "white",
            "linecolor": "white",
            "ticks": ""
           },
           "bgcolor": "#E5ECF6",
           "radialaxis": {
            "gridcolor": "white",
            "linecolor": "white",
            "ticks": ""
           }
          },
          "scene": {
           "xaxis": {
            "backgroundcolor": "#E5ECF6",
            "gridcolor": "white",
            "gridwidth": 2,
            "linecolor": "white",
            "showbackground": true,
            "ticks": "",
            "zerolinecolor": "white"
           },
           "yaxis": {
            "backgroundcolor": "#E5ECF6",
            "gridcolor": "white",
            "gridwidth": 2,
            "linecolor": "white",
            "showbackground": true,
            "ticks": "",
            "zerolinecolor": "white"
           },
           "zaxis": {
            "backgroundcolor": "#E5ECF6",
            "gridcolor": "white",
            "gridwidth": 2,
            "linecolor": "white",
            "showbackground": true,
            "ticks": "",
            "zerolinecolor": "white"
           }
          },
          "shapedefaults": {
           "line": {
            "color": "#2a3f5f"
           }
          },
          "ternary": {
           "aaxis": {
            "gridcolor": "white",
            "linecolor": "white",
            "ticks": ""
           },
           "baxis": {
            "gridcolor": "white",
            "linecolor": "white",
            "ticks": ""
           },
           "bgcolor": "#E5ECF6",
           "caxis": {
            "gridcolor": "white",
            "linecolor": "white",
            "ticks": ""
           }
          },
          "title": {
           "x": 0.05
          },
          "xaxis": {
           "automargin": true,
           "gridcolor": "white",
           "linecolor": "white",
           "ticks": "",
           "title": {
            "standoff": 15
           },
           "zerolinecolor": "white",
           "zerolinewidth": 2
          },
          "yaxis": {
           "automargin": true,
           "gridcolor": "white",
           "linecolor": "white",
           "ticks": "",
           "title": {
            "standoff": 15
           },
           "zerolinecolor": "white",
           "zerolinewidth": 2
          }
         }
        },
        "xaxis": {
         "autorange": true,
         "range": [
          "2024-01-17",
          "2024-07-01"
         ],
         "title": {
          "text": "Date"
         },
         "type": "date"
        },
        "yaxis": {
         "autorange": true,
         "range": [
          149.10103967474177,
          201.28024617990664
         ],
         "title": {
          "text": "Price"
         },
         "type": "linear"
        }
       }
      },
      "image/png": "[encoded data removed]",
      "text/html": [
       "<div>                            <div id=\"c4ec5c8a-f98d-40d3-b211-6e256b3bd52d\" class=\"plotly-graph-div\" style=\"height:525px; width:100%;\"></div>            <script type=\"text/javascript\">                require([\"plotly\"], function(Plotly) {                    window.PLOTLYENV=window.PLOTLYENV || {};                                    if (document.getElementById(\"c4ec5c8a-f98d-40d3-b211-6e256b3bd52d\")) {                    Plotly.newPlot(                        \"c4ec5c8a-f98d-40d3-b211-6e256b3bd52d\",                        [{\"mode\":\"lines\",\"name\":\"Actual\",\"x\":[\"2024-01-17T00:00:00\",\"2024-01-18T00:00:00\",\"2024-01-19T00:00:00\",\"2024-01-20T00:00:00\",\"2024-01-21T00:00:00\",\"2024-01-22T00:00:00\",\"2024-01-23T00:00:00\",\"2024-01-24T00:00:00\",\"2024-01-25T00:00:00\",\"2024-01-26T00:00:00\",\"2024-01-27T00:00:00\",\"2024-01-28T00:00:00\",\"2024-01-29T00:00:00\",\"2024-01-30T00:00:00\",\"2024-01-31T00:00:00\",\"2024-02-01T00:00:00\",\"2024-02-02T00:00:00\",\"2024-02-03T00:00:00\",\"2024-02-04T00:00:00\",\"2024-02-05T00:00:00\",\"2024-02-06T00:00:00\",\"2024-02-07T00:00:00\",\"2024-02-08T00:00:00\",\"2024-02-09T00:00:00\",\"2024-02-10T00:00:00\",\"2024-02-11T00:00:00\",\"2024-02-12T00:00:00\",\"2024-02-13T00:00:00\",\"2024-02-14T00:00:00\",\"2024-02-15T00:00:00\",\"2024-02-16T00:00:00\",\"2024-02-17T00:00:00\",\"2024-02-18T00:00:00\",\"2024-02-19T00:00:00\",\"2024-02-20T00:00:00\",\"2024-02-21T00:00:00\",\"2024-02-22T00:00:00\",\"2024-02-23T00:00:00\",\"2024-02-24T00:00:00\",\"2024-02-25T00:00:00\",\"2024-02-26T00:00:00\",\"2024-02-27T00:00:00\",\"2024-02-28T00:00:00\",\"2024-02-29T00:00:00\",\"2024-03-01T00:00:00\",\"2024-03-02T00:00:00\",\"2024-03-03T00:00:00\",\"2024-03-04T00:00:00\",\"2024-03-05T00:00:00\",\"2024-03-06T00:00:00\",\"2024-03-07T00:00:00\",\"2024-03-08T00:00:00\",\"2024-03-09T00:00:00\",\"2024-03-10T00:00:00\",\"2024-03-11T00:00:00\",\"2024-03-12T00:00:00\",\"2024-03-13T00:00:00\",\"2024-03-14T00:00:00\",\"2024-03-15T00:00:00\",\"2024-03-16T00:00:00\",\"2024-03-17T00:00:00\",\"2024-03-18T00:00:00\",\"2024-03-19T00:00:00\",\"2024-03-20T00:00:00\",\"2024-03-21T00:00:00\",\"2024-03-22T00:00:00\",\"2024-03-23T00:00:00\",\"2024-03-24T00:00:00\",\"2024-03-25T00:00:00\",\"2024-03-26T00:00:00\",\"2024-03-27T00:00:00\",\"2024-03-28T00:00:00\",\"2024-03-29T00:00:00\",\"2024-03-30T00:00:00\",\"2024-03-31T00:00:00\",\"2024-04-01T00:00:00\",\"2024-04-02T00:00:00\",\"2024-04-03T00:00:00\",\"2024-04-04T00:00:00\",\"2024-04-05T00:00:00\",\"2024-04-06T00:00:00\",\"2024-04-07T00:00:00\",\"2024-04-08T00:00:00\",\"2024-04-09T00:00:00\",\"2024-04-10T00:00:00\",\"2024-04-11T00:00:00\",\"2024-04-12T00:00:00\",\"2024-04-13T00:00:00\",\"2024-04-14T00:00:00\",\"2024-04-15T00:00:00\",\"2024-04-16T00:00:00\",\"2024-04-17T00:00:00\",\"2024-04-18T00:00:00\",\"2024-04-19T00:00:00\",\"2024-04-20T00:00:00\",\"2024-04-21T00:00:00\",\"2024-04-22T00:00:00\",\"2024-04-23T00:00:00\",\"2024-04-24T00:00:00\",\"2024-04-25T00:00:00\",\"2024-04-26T00:00:00\",\"2024-04-27T00:00:00\",\"2024-04-28T00:00:00\",\"2024-04-29T00:00:00\",\"2024-04-30T00:00:00\",\"2024-05-01T00:00:00\",\"2024-05-02T00:00:00\",\"2024-05-03T00:00:00\",\"2024-05-04T00:00:00\",\"2024-05-05T00:00:00\",\"2024-05-06T00:00:00\",\"2024-05-07T00:00:00\",\"2024-05-08T00:00:00\",\"2024-05-09T00:00:00\",\"2024-05-10T00:00:00\",\"2024-05-11T00:00:00\",\"2024-05-12T00:00:00\",\"2024-05-13T00:00:00\",\"2024-05-14T00:00:00\",\"2024-05-15T00:00:00\",\"2024-05-16T00:00:00\",\"2024-05-17T00:00:00\",\"2024-05-18T00:00:00\",\"2024-05-19T00:00:00\",\"2024-05-20T00:00:00\",\"2024-05-21T00:00:00\",\"2024-05-22T00:00:00\",\"2024-05-23T00:00:00\",\"2024-05-24T00:00:00\",\"2024-05-25T00:00:00\",\"2024-05-26T00:00:00\",\"2024-05-27T00:00:00\",\"2024-05-28T00:00:00\",\"2024-05-29T00:00:00\",\"2024-05-30T00:00:00\",\"2024-05-31T00:00:00\",\"2024-06-01T00:00:00\",\"2024-06-02T00:00:00\",\"2024-06-03T00:00:00\",\"2024-06-04T00:00:00\",\"2024-06-05T00:00:00\",\"2024-06-06T00:00:00\",\"2024-06-07T00:00:00\",\"2024-06-08T00:00:00\",\"2024-06-09T00:00:00\",\"2024-06-10T00:00:00\",\"2024-06-11T00:00:00\",\"2024-06-12T00:00:00\",\"2024-06-13T00:00:00\",\"2024-06-14T00:00:00\",\"2024-06-15T00:00:00\",\"2024-06-16T00:00:00\",\"2024-06-17T00:00:00\",\"2024-06-18T00:00:00\",\"2024-06-19T00:00:00\",\"2024-06-20T00:00:00\",\"2024-06-21T00:00:00\",\"2024-06-22T00:00:00\",\"2024-06-23T00:00:00\",\"2024-06-24T00:00:00\",\"2024-06-25T00:00:00\",\"2024-06-26T00:00:00\",\"2024-06-27T00:00:00\",\"2024-06-28T00:00:00\"],\"y\":[151.71,153.5,155.34,155.34,155.34,154.78,156.02,156.87,157.75,159.12,159.12,159.12,161.26,159.0,155.2,159.28,171.81,171.81,171.81,170.31,169.15,170.53,169.84,174.45,174.45,174.45,172.34,168.64,170.98,169.8,169.51,169.51,169.51,169.51,167.08,168.59,174.58,174.99,174.99,174.99,174.73,173.54,173.16,176.76,178.22,178.22,178.22,177.58,174.12,173.51,176.82,176.82,176.82,176.82,171.96,175.39,176.56,178.75,174.42,174.42,174.42,174.48,175.9,178.15,178.15,178.15,178.15,178.15,179.71,178.3,179.83,180.38,180.38,180.38,180.38,180.97,180.69,182.41,180.0,185.07,185.07,185.07,185.19,185.67,185.95,189.05,186.13,186.13,186.13,183.62,183.32,181.28,179.22,174.63,174.63,174.63,177.23,179.54,176.59,173.67,179.62,179.62,179.62,180.96,175.0,179.0,184.72,186.21,186.21,186.21,188.7,188.76,188.0,189.5,187.48,187.48,187.48,186.57,187.07,185.99,183.63,184.7,184.7,184.7,183.54,183.15,183.13,181.05,180.75,180.75,180.75,180.75,182.15,182.02,179.32,176.44,176.44,176.44,178.34,179.34,181.28,181.28,184.3,184.3,184.3,187.06,187.23,186.89,183.83,183.66,183.66,183.66,184.06,182.81,182.81,186.1,189.08,189.08,189.08,185.57,186.34,193.61,197.85,193.25],\"type\":\"scatter\"},{\"line\":{\"color\":\"red\"},\"mode\":\"lines\",\"name\":\"Predicted\",\"x\":[\"2024-06-28T00:00:00\",\"2024-06-29T00:00:00\",\"2024-06-30T00:00:00\",\"2024-07-01T00:00:00\"],\"y\":[193.25,192.5768973880891,198.6712858546484,196.85493822572172],\"type\":\"scatter\"}],                        {\"template\":{\"data\":{\"histogram2dcontour\":[{\"type\":\"histogram2dcontour\",\"colorbar\":{\"outlinewidth\":0,\"ticks\":\"\"},\"colorscale\":[[0.0,\"#0d0887\"],[0.1111111111111111,\"#46039f\"],[0.2222222222222222,\"#7201a8\"],[0.3333333333333333,\"#9c179e\"],[0.4444444444444444,\"#bd3786\"],[0.5555555555555556,\"#d8576b\"],[0.6666666666666666,\"#ed7953\"],[0.7777777777777778,\"#fb9f3a\"],[0.8888888888888888,\"#fdca26\"],[1.0,\"#f0f921\"]]}],\"choropleth\":[{\"type\":\"choropleth\",\"colorbar\":{\"outlinewidth\":0,\"ticks\":\"\"}}],\"histogram2d\":[{\"type\":\"histogram2d\",\"colorbar\":{\"outlinewidth\":0,\"ticks\":\"\"},\"colorscale\":[[0.0,\"#0d0887\"],[0.1111111111111111,\"#46039f\"],[0.2222222222222222,\"#7201a8\"],[0.3333333333333333,\"#9c179e\"],[0.4444444444444444,\"#bd3786\"],[0.5555555555555556,\"#d8576b\"],[0.6666666666666666,\"#ed7953\"],[0.7777777777777778,\"#fb9f3a\"],[0.8888888888888888,\"#fdca26\"],[1.0,\"#f0f921\"]]}],\"heatmap\":[{\"type\":\"heatmap\",\"colorbar\":{\"outlinewidth\":0,\"ticks\":\"\"},\"colorscale\":[[0.0,\"#0d0887\"],[0.1111111111111111,\"#46039f\"],[0.2222222222222222,\"#7201a8\"],[0.3333333333333333,\"#9c179e\"],[0.4444444444444444,\"#bd3786\"],[0.5555555555555556,\"#d8576b\"],[0.6666666666666666,\"#ed7953\"],[0.7777777777777778,\"#fb9f3a\"],[0.8888888888888888,\"#fdca26\"],[1.0,\"#f0f921\"]]}],\"heatmapgl\":[{\"type\":\"heatmapgl\",\"colorbar\":{\"outlinewidth\":0,\"ticks\":\"\"},\"colorscale\":[[0.0,\"#0d0887\"],[0.1111111111111111,\"#46039f\"],[0.2222222222222222,\"#7201a8\"],[0.3333333333333333,\"#9c179e\"],[0.4444444444444444,\"#bd3786\"],[0.5555555555555556,\"#d8576b\"],[0.6666666666666666,\"#ed7953\"],[0.7777777777777778,\"#fb9f3a\"],[0.8888888888888888,\"#fdca26\"],[1.0,\"#f0f921\"]]}],\"contourcarpet\":[{\"type\":\"contourcarpet\",\"colorbar\":{\"outlinewidth\":0,\"ticks\":\"\"}}],\"contour\":[{\"type\":\"contour\",\"colorbar\":{\"outlinewidth\":0,\"ticks\":\"\"},\"colorscale\":[[0.0,\"#0d0887\"],[0.1111111111111111,\"#46039f\"],[0.2222222222222222,\"#7201a8\"],[0.3333333333333333,\"#9c179e\"],[0.4444444444444444,\"#bd3786\"],[0.5555555555555556,\"#d8576b\"],[0.6666666666666666,\"#ed7953\"],[0.7777777777777778,\"#fb9f3a\"],[0.8888888888888888,\"#fdca26\"],[1.0,\"#f0f921\"]]}],\"surface\":[{\"type\":\"surface\",\"colorbar\":{\"outlinewidth\":0,\"ticks\":\"\"},\"colorscale\":[[0.0,\"#0d0887\"],[0.1111111111111111,\"#46039f\"],[0.2222222222222222,\"#7201a8\"],[0.3333333333333333,\"#9c179e\"],[0.4444444444444444,\"#bd3786\"],[0.5555555555555556,\"#d8576b\"],[0.6666666666666666,\"#ed7953\"],[0.7777777777777778,\"#fb9f3a\"],[0.8888888888888888,\"#fdca26\"],[1.0,\"#f0f921\"]]}],\"mesh3d\":[{\"type\":\"mesh3d\",\"colorbar\":{\"outlinewidth\":0,\"ticks\":\"\"}}],\"scatter\":[{\"fillpattern\":{\"fillmode\":\"overlay\",\"size\":10,\"solidity\":0.2},\"type\":\"scatter\"}],\"parcoords\":[{\"type\":\"parcoords\",\"line\":{\"colorbar\":{\"outlinewidth\":0,\"ticks\":\"\"}}}],\"scatterpolargl\":[{\"type\":\"scatterpolargl\",\"marker\":{\"colorbar\":{\"outlinewidth\":0,\"ticks\":\"\"}}}],\"bar\":[{\"error_x\":{\"color\":\"#2a3f5f\"},\"error_y\":{\"color\":\"#2a3f5f\"},\"marker\":{\"line\":{\"color\":\"#E5ECF6\",\"width\":0.5},\"pattern\":{\"fillmode\":\"overlay\",\"size\":10,\"solidity\":0.2}},\"type\":\"bar\"}],\"scattergeo\":[{\"type\":\"scattergeo\",\"marker\":{\"colorbar\":{\"outlinewidth\":0,\"ticks\":\"\"}}}],\"scatterpolar\":[{\"type\":\"scatterpolar\",\"marker\":{\"colorbar\":{\"outlinewidth\":0,\"ticks\":\"\"}}}],\"histogram\":[{\"marker\":{\"pattern\":{\"fillmode\":\"overlay\",\"size\":10,\"solidity\":0.2}},\"type\":\"histogram\"}],\"scattergl\":[{\"type\":\"scattergl\",\"marker\":{\"colorbar\":{\"outlinewidth\":0,\"ticks\":\"\"}}}],\"scatter3d\":[{\"type\":\"scatter3d\",\"line\":{\"colorbar\":{\"outlinewidth\":0,\"ticks\":\"\"}},\"marker\":{\"colorbar\":{\"outlinewidth\":0,\"ticks\":\"\"}}}],\"scattermapbox\":[{\"type\":\"scattermapbox\",\"marker\":{\"colorbar\":{\"outlinewidth\":0,\"ticks\":\"\"}}}],\"scatterternary\":[{\"type\":\"scatterternary\",\"marker\":{\"colorbar\":{\"outlinewidth\":0,\"ticks\":\"\"}}}],\"scattercarpet\":[{\"type\":\"scattercarpet\",\"marker\":{\"colorbar\":{\"outlinewidth\":0,\"ticks\":\"\"}}}],\"carpet\":[{\"aaxis\":{\"endlinecolor\":\"#2a3f5f\",\"gridcolor\":\"white\",\"linecolor\":\"white\",\"minorgridcolor\":\"white\",\"startlinecolor\":\"#2a3f5f\"},\"baxis\":{\"endlinecolor\":\"#2a3f5f\",\"gridcolor\":\"white\",\"linecolor\":\"white\",\"minorgridcolor\":\"white\",\"startlinecolor\":\"#2a3f5f\"},\"type\":\"carpet\"}],\"table\":[{\"cells\":{\"fill\":{\"color\":\"#EBF0F8\"},\"line\":{\"color\":\"white\"}},\"header\":{\"fill\":{\"color\":\"#C8D4E3\"},\"line\":{\"color\":\"white\"}},\"type\":\"table\"}],\"barpolar\":[{\"marker\":{\"line\":{\"color\":\"#E5ECF6\",\"width\":0.5},\"pattern\":{\"fillmode\":\"overlay\",\"size\":10,\"solidity\":0.2}},\"type\":\"barpolar\"}],\"pie\":[{\"automargin\":true,\"type\":\"pie\"}]},\"layout\":{\"autotypenumbers\":\"strict\",\"colorway\":[\"#636efa\",\"#EF553B\",\"#00cc96\",\"#ab63fa\",\"#FFA15A\",\"#19d3f3\",\"#FF6692\",\"#B6E880\",\"#FF97FF\",\"#FECB52\"],\"font\":{\"color\":\"#2a3f5f\"},\"hovermode\":\"closest\",\"hoverlabel\":{\"align\":\"left\"},\"paper_bgcolor\":\"white\",\"plot_bgcolor\":\"#E5ECF6\",\"polar\":{\"bgcolor\":\"#E5ECF6\",\"angularaxis\":{\"gridcolor\":\"white\",\"linecolor\":\"white\",\"ticks\":\"\"},\"radialaxis\":{\"gridcolor\":\"white\",\"linecolor\":\"white\",\"ticks\":\"\"}},\"ternary\":{\"bgcolor\":\"#E5ECF6\",\"aaxis\":{\"gridcolor\":\"white\",\"linecolor\":\"white\",\"ticks\":\"\"},\"baxis\":{\"gridcolor\":\"white\",\"linecolor\":\"white\",\"ticks\":\"\"},\"caxis\":{\"gridcolor\":\"white\",\"linecolor\":\"white\",\"ticks\":\"\"}},\"coloraxis\":{\"colorbar\":{\"outlinewidth\":0,\"ticks\":\"\"}},\"colorscale\":{\"sequential\":[[0.0,\"#0d0887\"],[0.1111111111111111,\"#46039f\"],[0.2222222222222222,\"#7201a8\"],[0.3333333333333333,\"#9c179e\"],[0.4444444444444444,\"#bd3786\"],[0.5555555555555556,\"#d8576b\"],[0.6666666666666666,\"#ed7953\"],[0.7777777777777778,\"#fb9f3a\"],[0.8888888888888888,\"#fdca26\"],[1.0,\"#f0f921\"]],\"sequentialminus\":[[0.0,\"#0d0887\"],[0.1111111111111111,\"#46039f\"],[0.2222222222222222,\"#7201a8\"],[0.3333333333333333,\"#9c179e\"],[0.4444444444444444,\"#bd3786\"],[0.5555555555555556,\"#d8576b\"],[0.6666666666666666,\"#ed7953\"],[0.7777777777777778,\"#fb9f3a\"],[0.8888888888888888,\"#fdca26\"],[1.0,\"#f0f921\"]],\"diverging\":[[0,\"#8e0152\"],[0.1,\"#c51b7d\"],[0.2,\"#de77ae\"],[0.3,\"#f1b6da\"],[0.4,\"#fde0ef\"],[0.5,\"#f7f7f7\"],[0.6,\"#e6f5d0\"],[0.7,\"#b8e186\"],[0.8,\"#7fbc41\"],[0.9,\"#4d9221\"],[1,\"#276419\"]]},\"xaxis\":{\"gridcolor\":\"white\",\"linecolor\":\"white\",\"ticks\":\"\",\"title\":{\"standoff\":15},\"zerolinecolor\":\"white\",\"automargin\":true,\"zerolinewidth\":2},\"yaxis\":{\"gridcolor\":\"white\",\"linecolor\":\"white\",\"ticks\":\"\",\"title\":{\"standoff\":15},\"zerolinecolor\":\"white\",\"automargin\":true,\"zerolinewidth\":2},\"scene\":{\"xaxis\":{\"backgroundcolor\":\"#E5ECF6\",\"gridcolor\":\"white\",\"linecolor\":\"white\",\"showbackground\":true,\"ticks\":\"\",\"zerolinecolor\":\"white\",\"gridwidth\":2},\"yaxis\":{\"backgroundcolor\":\"#E5ECF6\",\"gridcolor\":\"white\",\"linecolor\":\"white\",\"showbackground\":true,\"ticks\":\"\",\"zerolinecolor\":\"white\",\"gridwidth\":2},\"zaxis\":{\"backgroundcolor\":\"#E5ECF6\",\"gridcolor\":\"white\",\"linecolor\":\"white\",\"showbackground\":true,\"ticks\":\"\",\"zerolinecolor\":\"white\",\"gridwidth\":2}},\"shapedefaults\":{\"line\":{\"color\":\"#2a3f5f\"}},\"annotationdefaults\":{\"arrowcolor\":\"#2a3f5f\",\"arrowhead\":0,\"arrowwidth\":1},\"geo\":{\"bgcolor\":\"white\",\"landcolor\":\"#E5ECF6\",\"subunitcolor\":\"white\",\"showland\":true,\"showlakes\":true,\"lakecolor\":\"white\"},\"title\":{\"x\":0.05},\"mapbox\":{\"style\":\"light\"}}},\"shapes\":[{\"fillcolor\":\"red\",\"layer\":\"below\",\"line\":{\"width\":0},\"opacity\":0.2,\"type\":\"rect\",\"x0\":\"2024-06-28T00:00:00\",\"x1\":\"2024-07-01T00:00:00\",\"xref\":\"x\",\"y0\":0,\"y1\":1,\"yref\":\"y domain\"}],\"xaxis\":{\"title\":{\"text\":\"Date\"}},\"yaxis\":{\"title\":{\"text\":\"Price\"}}},                        {\"responsive\": true}                    ).then(function(){\n",
       "                            \n",
       "var gd = document.getElementById('c4ec5c8a-f98d-40d3-b211-6e256b3bd52d');\n",
       "var x = new MutationObserver(function (mutations, observer) {{\n",
       "        var display = window.getComputedStyle(gd).display;\n",
       "        if (!display || display === 'none') {{\n",
       "            console.log([gd, 'removed!']);\n",
       "            Plotly.purge(gd);\n",
       "            observer.disconnect();\n",
       "        }}\n",
       "}});\n",
       "\n",
       "// Listen for the removal of the full notebook cells\n",
       "var notebookContainer = gd.closest('#notebook-container');\n",
       "if (notebookContainer) {{\n",
       "    x.observe(notebookContainer, {childList: true});\n",
       "}}\n",
       "\n",
       "// Listen for the clearing of the current output cell\n",
       "var outputEl = gd.closest('.output');\n",
       "if (outputEl) {{\n",
       "    x.observe(outputEl, {childList: true});\n",
       "}}\n",
       "\n",
       "                        })                };                });            </script>        </div>"
      ]
     },
     "metadata": {},
     "output_type": "display_data"
    }
   ],
   "source": [
    "make_chart(pred)"
   ]
  },
  {
   "cell_type": "code",
   "execution_count": 48,
   "id": "2df4ee52-7b23-49cf-b2f5-a873bb64c9e3",
   "metadata": {},
   "outputs": [
    {
     "data": {
      "text/plain": [
       "('apikey=A8nw0ZRk5pklqvIiAfgBsTckdIorJ07q&from=2024-01-01&to=2024-06-28',\n",
       " 'https://financialmodelingprep.com/api/v3/stock-screener?apikey=A8nw0ZRk5pklqvIiAfgBsTckdIorJ07q&from=2024-01-01&to=2024-06-28')"
      ]
     },
     "execution_count": 48,
     "metadata": {},
     "output_type": "execute_result"
    }
   ],
   "source": [
    "stock_screener(**params)"
   ]
  }
 ],
 "metadata": {
  "kernelspec": {
   "display_name": "venv-final-project",
   "language": "python",
   "name": "venv-final-project"
  },
  "language_info": {
   "codemirror_mode": {
    "name": "ipython",
    "version": 3
   },
   "file_extension": ".py",
   "mimetype": "text/x-python",
   "name": "python",
   "nbconvert_exporter": "python",
   "pygments_lexer": "ipython3",
   "version": "3.9.6"
  }
 },
 "nbformat": 4,
 "nbformat_minor": 5
}
