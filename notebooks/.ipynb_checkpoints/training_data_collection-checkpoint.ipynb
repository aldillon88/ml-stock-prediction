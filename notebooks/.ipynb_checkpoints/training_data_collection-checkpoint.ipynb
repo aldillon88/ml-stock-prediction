{
 "cells": [
  {
   "cell_type": "code",
   "execution_count": 1,
   "id": "ca87eb92-449c-40fb-831c-a200fadf52f3",
   "metadata": {},
   "outputs": [],
   "source": [
    "import pandas as pd\n",
    "import config\n",
    "import ssl\n",
    "from urllib.request import urlopen\n",
    "from urllib.parse import urlencode\n",
    "import certifi\n",
    "from functions import *"
   ]
  },
  {
   "cell_type": "code",
   "execution_count": 2,
   "id": "29e0d449-bf90-40c5-8b16-898b001fb01b",
   "metadata": {},
   "outputs": [],
   "source": [
    "# Create lists of stock symbols and technical indicators for which we want data.\n",
    "\n",
    "watchlist = ['AMZN', 'AAPL', 'GOOG', 'META','MSFT', 'NVDA', 'TSLA']\n",
    "timeframes = ['1min', '5min', '15min', '30min', '1hour', '4hour', '1day']\n",
    "indicators = ['dema', 'tema', 'williams', 'rsi']"
   ]
  },
  {
   "cell_type": "code",
   "execution_count": 3,
   "id": "7ef22fb3-021f-4ee7-a8bd-5c50292767d1",
   "metadata": {},
   "outputs": [],
   "source": [
    "# Collect all historical price data for each symbol in the watchlist.\n",
    "\n",
    "all_historical_data = get_all_data(watchlist)"
   ]
  },
  {
   "cell_type": "code",
   "execution_count": 4,
   "id": "92ec22fc-8ca1-47a5-b052-db286e43f10b",
   "metadata": {},
   "outputs": [],
   "source": [
    "# Convert all historical pricing data from json to pandas dataframes.\n",
    "\n",
    "amazon = pd.DataFrame(all_historical_data[0]['historical']).set_index('date', drop=True)\n",
    "amazon.index = pd.to_datetime(amazon.index)\n",
    "\n",
    "apple = pd.DataFrame(all_historical_data[1]['historical']).set_index('date', drop=True)\n",
    "apple.index = pd.to_datetime(apple.index)\n",
    "\n",
    "alphabet = pd.DataFrame(all_historical_data[2]['historical']).set_index('date', drop=True)\n",
    "alphabet.index = pd.to_datetime(alphabet.index)\n",
    "\n",
    "meta = pd.DataFrame(all_historical_data[3]['historical']).set_index('date', drop=True)\n",
    "meta.index = pd.to_datetime(meta.index)\n",
    "\n",
    "microsoft = pd.DataFrame(all_historical_data[4]['historical']).set_index('date', drop=True)\n",
    "microsoft.index = pd.to_datetime(microsoft.index)\n",
    "\n",
    "nvidia = pd.DataFrame(all_historical_data[5]['historical']).set_index('date', drop=True)\n",
    "nvidia.index = pd.to_datetime(nvidia.index)\n",
    "\n",
    "tesla = pd.DataFrame(all_historical_data[6]['historical']).set_index('date', drop=True)\n",
    "tesla.index = pd.to_datetime(tesla.index)"
   ]
  },
  {
   "cell_type": "code",
   "execution_count": 5,
   "id": "8c99a897-44e5-4737-b7bb-399a3cb76d7c",
   "metadata": {},
   "outputs": [],
   "source": [
    "# Collect technical indicator data and add lagging features before exporting to csv.\n",
    "\n",
    "amazon_indicators = get_indicators(amazon.symbol.iloc[0], indicators)\n",
    "amazon_rating = pd.DataFrame(get_jsonparsed_data(historical_rating_url(amazon.symbol.iloc[0])))[['date', 'ratingScore']]\n",
    "amazon_rating.date = pd.to_datetime(amazon_rating.date)\n",
    "amazon_rating = amazon_rating.set_index('date', drop=True)\n",
    "amazon_training_data = pd.concat([amazon, amazon_indicators, amazon_rating], axis=1).sort_index().dropna()\n",
    "amazon_training_data = amazon_training_data.asfreq('D', method='ffill')\n",
    "amazon_training_data = lagging_features_target(amazon_training_data)\n",
    "amazon_training_data.to_csv('../data/clean/amazon_training_data.csv', index=True)"
   ]
  },
  {
   "cell_type": "code",
   "execution_count": null,
   "id": "9320e829-a2ee-4c72-94d2-d5e826b863af",
   "metadata": {},
   "outputs": [],
   "source": [
    "apple_indicators = get_indicators(apple.symbol.iloc[0], indicators)\n",
    "apple_rating = pd.DataFrame(get_jsonparsed_data(historical_rating_url(apple.symbol.iloc[0])))[['date', 'ratingScore']]\n",
    "apple_rating.date = pd.to_datetime(apple_rating.date)\n",
    "apple_rating = apple_rating.set_index('date', drop=True)\n",
    "apple_training_data = pd.concat([apple, apple_indicators, apple_rating], axis=1).sort_index().dropna()\n",
    "apple_training_data = apple_training_data.asfreq('D', method='ffill')\n",
    "apple_training_data = lagging_features_target(apple_training_data)\n",
    "apple_training_data.to_csv('../data/clean/apple_training_data.csv', index=True)"
   ]
  },
  {
   "cell_type": "code",
   "execution_count": null,
   "id": "0ab15c23-6042-4db4-b72c-47f6d7048b8b",
   "metadata": {},
   "outputs": [],
   "source": [
    "alphabet_indicators = get_indicators(alphabet.symbol.iloc[0], indicators)\n",
    "alphabet_rating = pd.DataFrame(get_jsonparsed_data(historical_rating_url(alphabet.symbol.iloc[0])))[['date', 'ratingScore']]\n",
    "alphabet_rating.date = pd.to_datetime(alphabet_rating.date)\n",
    "alphabet_rating = alphabet_rating.set_index('date', drop=True)\n",
    "alphabet_training_data = pd.concat([alphabet, alphabet_indicators, alphabet_rating], axis=1).sort_index().dropna()\n",
    "alphabet_training_data = alphabet_training_data.asfreq('D', method='ffill')\n",
    "alphabet_training_data = lagging_features_target(alphabet_training_data)\n",
    "alphabet_training_data.to_csv('../data/clean/alphabet_training_data.csv', index=True)"
   ]
  },
  {
   "cell_type": "code",
   "execution_count": null,
   "id": "c677e038-f0e5-4cf9-9a34-c317ebffc6c5",
   "metadata": {},
   "outputs": [],
   "source": [
    "meta_indicators = get_indicators(meta.symbol.iloc[0], indicators)\n",
    "meta_rating = pd.DataFrame(get_jsonparsed_data(historical_rating_url(meta.symbol.iloc[0])))[['date', 'ratingScore']]\n",
    "meta_rating.date = pd.to_datetime(meta_rating.date)\n",
    "meta_rating = meta_rating.set_index('date', drop=True)\n",
    "meta_training_data = pd.concat([meta, meta_indicators, meta_rating], axis=1).sort_index().dropna()\n",
    "meta_training_data = meta_training_data.asfreq('D', method='ffill')\n",
    "meta_training_data = lagging_features_target(meta_training_data)\n",
    "meta_training_data.to_csv('../data/clean/meta_training_data.csv', index=True)"
   ]
  },
  {
   "cell_type": "code",
   "execution_count": null,
   "id": "0a980457-3033-4df3-80a0-d19aec431597",
   "metadata": {},
   "outputs": [],
   "source": [
    "microsoft_indicators = get_indicators(microsoft.symbol.iloc[0], indicators)\n",
    "microsoft_rating = pd.DataFrame(get_jsonparsed_data(historical_rating_url(microsoft.symbol.iloc[0])))[['date', 'ratingScore']]\n",
    "microsoft_rating.date = pd.to_datetime(microsoft_rating.date)\n",
    "microsoft_rating = microsoft_rating.set_index('date', drop=True)\n",
    "microsoft_training_data = pd.concat([microsoft, microsoft_indicators, microsoft_rating], axis=1).sort_index().dropna()\n",
    "microsoft_training_data = microsoft_training_data.asfreq('D', method='ffill')\n",
    "microsoft_training_data = lagging_features_target(microsoft_training_data)\n",
    "microsoft_training_data.to_csv('../data/clean/microsoft_training_data.csv', index=True)"
   ]
  },
  {
   "cell_type": "code",
   "execution_count": null,
   "id": "b67e9963-64a0-43a5-936f-284e39ff19f1",
   "metadata": {},
   "outputs": [],
   "source": [
    "nvidia_indicators = get_indicators(nvidia.symbol.iloc[0], indicators)\n",
    "nvidia_rating = pd.DataFrame(get_jsonparsed_data(historical_rating_url(nvidia.symbol.iloc[0])))[['date', 'ratingScore']]\n",
    "nvidia_rating.date = pd.to_datetime(nvidia_rating.date)\n",
    "nvidia_rating = nvidia_rating.set_index('date', drop=True)\n",
    "nvidia_training_data = pd.concat([nvidia, nvidia_indicators, nvidia_rating], axis=1).sort_index().dropna()\n",
    "nvidia_training_data = nvidia_training_data.asfreq('D', method='ffill')\n",
    "nvidia_training_data = lagging_features_target(nvidia_training_data)\n",
    "nvidia_training_data.to_csv('../data/clean/nvidia_training_data.csv', index=True)"
   ]
  },
  {
   "cell_type": "code",
   "execution_count": null,
   "id": "52b474da-9caa-48d2-b381-394a9ca6be4b",
   "metadata": {},
   "outputs": [],
   "source": [
    "tesla_indicators = get_indicators(tesla.symbol.iloc[0], indicators)\n",
    "tesla_rating = pd.DataFrame(get_jsonparsed_data(historical_rating_url(tesla.symbol.iloc[0])))[['date', 'ratingScore']]\n",
    "tesla_rating.date = pd.to_datetime(tesla_rating.date)\n",
    "tesla_rating = tesla_rating.set_index('date', drop=True)\n",
    "tesla_training_data = pd.concat([tesla, tesla_indicators, tesla_rating], axis=1).sort_index().dropna()\n",
    "tesla_training_data = tesla_training_data.asfreq('D', method='ffill')\n",
    "tesla_training_data = lagging_features_target(tesla_training_data)\n",
    "tesla_training_data.to_csv('../data/clean/tesla_training_data.csv', index=True)"
   ]
  }
 ],
 "metadata": {
  "kernelspec": {
   "display_name": "venv-final-project",
   "language": "python",
   "name": "venv-final-project"
  },
  "language_info": {
   "codemirror_mode": {
    "name": "ipython",
    "version": 3
   },
   "file_extension": ".py",
   "mimetype": "text/x-python",
   "name": "python",
   "nbconvert_exporter": "python",
   "pygments_lexer": "ipython3",
   "version": "3.9.6"
  }
 },
 "nbformat": 4,
 "nbformat_minor": 5
}
