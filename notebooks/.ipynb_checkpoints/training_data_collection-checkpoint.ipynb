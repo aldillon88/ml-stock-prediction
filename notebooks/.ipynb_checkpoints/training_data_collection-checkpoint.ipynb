{
 "cells": [
  {
   "cell_type": "code",
   "execution_count": 203,
   "id": "ca87eb92-449c-40fb-831c-a200fadf52f3",
   "metadata": {},
   "outputs": [],
   "source": [
    "import pandas as pd\n",
    "import config\n",
    "import os\n",
    "from fmp_python.fmp import FMP\n",
    "import pprint\n",
    "import ssl\n",
    "import time\n",
    "\n",
    "from functions import trim_and_lower\n",
    "\n",
    "from urllib.request import urlopen\n",
    "from urllib.parse import urlencode\n",
    "import certifi\n",
    "import json\n",
    "from IPython.display import Image, display\n",
    "\n",
    "import plotly.express as px"
   ]
  },
  {
   "cell_type": "code",
   "execution_count": 321,
   "id": "69cfbd4f-8ed9-4b26-a501-55241c283553",
   "metadata": {},
   "outputs": [],
   "source": [
    "# Create a custom SSL context\n",
    "context = ssl.create_default_context(cafile=certifi.where())\n",
    "\n",
    "# Now you can access the environment variables\n",
    "apikey = os.getenv('FMP_SECRET_KEY')\n",
    "#fmp = FMP(api_key=apikey, output_format='pandas')\n",
    "#fmp = FMP(api_key=apikey, output_format='json')\n",
    "\n",
    "\n",
    "def company_profile_url(ticker, apikey=apikey):\n",
    "    endpoint = 'https://financialmodelingprep.com/api/v3/profile/'\n",
    "    url = f'{endpoint}{ticker}?apikey={apikey}'\n",
    "    return url\n",
    "\n",
    "def stock_screener(apikey=apikey, **kwargs):\n",
    "    endpoint = 'https://financialmodelingprep.com/api/v3/stock-screener'\n",
    "    params = {'apikey': apikey}\n",
    "    params.update(kwargs)\n",
    "    query_string = urlencode(params)\n",
    "    url = f'{endpoint}?{query_string}'\n",
    "    print(url)\n",
    "    return url\n",
    "\n",
    "def full_quote_url(ticker, apikey=apikey):\n",
    "    endpoint = 'https://financialmodelingprep.com/api/v3/quote/'\n",
    "    url = f'{endpoint}{ticker}?apikey={apikey}'\n",
    "    return url\n",
    "\n",
    "def historical_url(ticker, apikey=apikey):\n",
    "    endpoint = 'https://financialmodelingprep.com/api/v3/historical-price-full/'\n",
    "    url = f'{endpoint}{ticker}?apikey={apikey}'\n",
    "    return url\n",
    "\n",
    "def technical_indicator_url(timeframe, ticker, ind_type, period, apikey=apikey):\n",
    "    endpoint = 'https://financialmodelingprep.com/api/v3/technical_indicator/'\n",
    "    ticker = ticker\n",
    "    url = f'{endpoint}{timeframe}/{ticker}?type={ind_type}&period={period}&apikey={apikey}'\n",
    "    return url\n",
    "\n",
    "def historical_rating_url(ticker, apikey=apikey):\n",
    "    endpoint = 'https://financialmodelingprep.com/api/v3/historical-rating/'\n",
    "    url = f'{endpoint}{ticker}?apikey={apikey}'\n",
    "    return url\n",
    "\n",
    "def get_jsonparsed_data(url, retries=3, timeout=10):\n",
    "    \"\"\"\n",
    "    Fetch JSON data from the provided URL and return it as a Python dictionary.\n",
    "    \n",
    "    Parameters\n",
    "    ----------\n",
    "    url : str\n",
    "        The URL to fetch data from.\n",
    "    retries : int\n",
    "        The number of retries for the request in case of failure.\n",
    "    timeout : int\n",
    "        The timeout for the request in seconds.\n",
    "\n",
    "    Returns\n",
    "    -------\n",
    "    dict\n",
    "        The parsed JSON data.\n",
    "    \"\"\"\n",
    "    context = ssl.create_default_context(cafile=certifi.where())\n",
    "    for attempt in range(retries):\n",
    "        try:\n",
    "            with urlopen(url, context=context, timeout=timeout) as response:\n",
    "                data = response.read().decode(\"utf-8\")\n",
    "                return json.loads(data)\n",
    "        except Exception as e:\n",
    "            print(f\"Attempt {attempt + 1} failed: {e}\")\n",
    "            if attempt < retries - 1:\n",
    "                time.sleep(2 ** attempt)  # Exponential backoff\n",
    "            else:\n",
    "                raise\n",
    "\n",
    "def display_company_logo(ticker, apikey=apikey, retries=3, timeout=10):\n",
    "    endpoint = 'https://financialmodelingprep.com/image-stock/'\n",
    "    url = f'{endpoint}{ticker}.png?apikey={apikey}'\n",
    "    print(url)\n",
    "    for attempt in range(retries):\n",
    "        try:\n",
    "            with urlopen(url, context=context) as response:\n",
    "                image_data = response.read()\n",
    "                display(Image(image_data))\n",
    "        except Exception as e:\n",
    "            print(f\"Error fetching image: {e}\")\n",
    "\n",
    "\n",
    "def get_indicators(ticker, indicators, timeframe='1day', period=14, apikey=apikey):\n",
    "    urls = {}\n",
    "    for indicator in indicators:\n",
    "        url = technical_indicator_url(timeframe, ticker, indicator, period, apikey)\n",
    "        urls[indicator] = url\n",
    "    \n",
    "    ind_data = {}\n",
    "    for key, value in urls.items():\n",
    "        data = get_jsonparsed_data(value)\n",
    "        filtered_data = [{'date': entry['date'], key: entry[key]} for entry in data if key in entry]\n",
    "        ind_data[key] = filtered_data\n",
    "    \n",
    "    df_list = []\n",
    "    for indicator, data in ind_data.items():\n",
    "        df = pd.DataFrame(data)\n",
    "        df = df.set_index('date')\n",
    "        df_list.append(df)\n",
    "\n",
    "    final_df = pd.concat(df_list, axis=1, join='outer')\n",
    "    final_df.index = pd.to_datetime(indicator_df.index)\n",
    "        \n",
    "    return final_df\n",
    "\n",
    "def stock_summary_table(stock_data):\n",
    "    columns = stock_data[0]\n",
    "    table = pd.DataFrame(stock_data)[['symbol', 'name', 'price', 'marketCap', 'exchange']]\n",
    "    melted = table.melt().set_index('variable', drop=True)\n",
    "    return melted\n",
    "\n",
    "\n",
    "def get_all_data(tickers):\n",
    "    data = []\n",
    "    for ticker in tickers:\n",
    "        historical_data = get_jsonparsed_data(historical_url(ticker))\n",
    "        data.append(historical_data)\n",
    "\n",
    "    # List of keys to keep in each dictionary\n",
    "    keys_to_keep = ['date', 'open', 'high', 'low', 'close', 'volume', 'vwap']\n",
    "\n",
    "    for item in data:\n",
    "        historical = item['historical']\n",
    "        symbol = item['symbol']\n",
    "\n",
    "        # Modify each entry in the historical list\n",
    "        for entry in historical:\n",
    "            entry['symbol'] = symbol\n",
    "            # Keep only the necessary keys\n",
    "            for key in list(entry.keys()):\n",
    "                if key not in keys_to_keep and key != 'symbol':\n",
    "                    del entry[key]\n",
    "    \n",
    "    return data\n",
    "\n",
    "\n",
    "def lagging_features_target(df):\n",
    "    df = df.copy()\n",
    "    df['minus_10_price'] = df.close.shift(10)\n",
    "    df['minus_5_price'] = df.close.shift(5)\n",
    "    df['minus_5_price'] = df.close.shift(5)\n",
    "    df['minus_4_price'] = df.close.shift(4)\n",
    "    df['minus_3_price'] = df.close.shift(3)\n",
    "    df['minus_2_price'] = df.close.shift(2)\n",
    "    df['target'] = df.close.shift(-3)\n",
    "    df = df.dropna()\n",
    "    return df"
   ]
  },
  {
   "cell_type": "code",
   "execution_count": 332,
   "id": "29e0d449-bf90-40c5-8b16-898b001fb01b",
   "metadata": {},
   "outputs": [],
   "source": [
    "watchlist = ['AMZN', 'AAPL', 'GOOG', 'META','MSFT', 'NVDA', 'TSLA']\n",
    "#watchlist = ['AMZN', 'AAPL']\n",
    "timeframes = ['1min', '5min', '15min', '30min', '1hour', '4hour', '1day']\n",
    "indicators = ['dema', 'tema', 'williams', 'rsi', 'adx']\n",
    "#indicators = ['sma', 'ema', 'wma', 'dema', 'tema', 'williams', 'rsi', 'adx']"
   ]
  },
  {
   "cell_type": "code",
   "execution_count": null,
   "id": "ddc99a20-438f-4315-af3d-3153e2ebfe7b",
   "metadata": {},
   "outputs": [],
   "source": [
    "indicator_df = get_indicators('TTD', indicators)"
   ]
  },
  {
   "cell_type": "code",
   "execution_count": 85,
   "id": "99a12105-b207-4f47-a0c8-1b2390185a78",
   "metadata": {},
   "outputs": [],
   "source": [
    "hist_rating_url = historical_rating_url('TTD')\n",
    "hist_rating = get_jsonparsed_data(hist_rating_url)"
   ]
  },
  {
   "cell_type": "code",
   "execution_count": null,
   "id": "2a4e8c72-6f23-48c4-a269-4e0d0b61dc03",
   "metadata": {},
   "outputs": [],
   "source": [
    "hist_rating = pd.DataFrame(hist_rating)[['date', 'ratingScore']]\n",
    "hist_rating = hist_rating.set_index('date', drop=True)\n",
    "hist_rating.index = pd.to_datetime(hist_rating.index)"
   ]
  },
  {
   "cell_type": "code",
   "execution_count": 87,
   "id": "a2f1fdb0-4663-47b4-94fb-89a8e790e26c",
   "metadata": {},
   "outputs": [],
   "source": [
    "hist_url = historical_url('TTD')\n",
    "hist = get_jsonparsed_data(hist_url)['historical']"
   ]
  },
  {
   "cell_type": "code",
   "execution_count": null,
   "id": "eb967c36-158f-42b8-a766-50172a71c783",
   "metadata": {},
   "outputs": [],
   "source": [
    "hist = pd.DataFrame(hist).set_index('date', drop=True)\n",
    "hist.index = pd.to_datetime(hist.index)\n",
    "hist = hist.drop(columns=['unadjustedVolume', 'adjClose', 'label', 'changeOverTime'])"
   ]
  },
  {
   "cell_type": "code",
   "execution_count": null,
   "id": "598862b3-81b9-4068-a134-a3d3d872558f",
   "metadata": {},
   "outputs": [],
   "source": [
    "df = pd.concat([hist, indicator_df, hist_rating], axis=1).sort_index()\n",
    "df = df.dropna()\n",
    "df.head()"
   ]
  },
  {
   "cell_type": "code",
   "execution_count": 110,
   "id": "ac62474f-4479-4510-aa25-22b6a03de8e8",
   "metadata": {},
   "outputs": [
    {
     "data": {
      "text/plain": [
       "(1217, 17)"
      ]
     },
     "execution_count": 110,
     "metadata": {},
     "output_type": "execute_result"
    }
   ],
   "source": [
    "df.shape"
   ]
  },
  {
   "cell_type": "code",
   "execution_count": 169,
   "id": "84b92c94-ca7c-4d86-9c7b-2420af3dd7cb",
   "metadata": {},
   "outputs": [],
   "source": [
    "train_df = df.copy()"
   ]
  },
  {
   "cell_type": "code",
   "execution_count": 170,
   "id": "2e838f39-7009-43cd-85c7-449b89ad1554",
   "metadata": {},
   "outputs": [
    {
     "data": {
      "text/plain": [
       "(1823, 17)"
      ]
     },
     "execution_count": 170,
     "metadata": {},
     "output_type": "execute_result"
    }
   ],
   "source": [
    "train_df = train_df.asfreq('D', method='ffill')\n",
    "train_df.shape"
   ]
  },
  {
   "cell_type": "code",
   "execution_count": null,
   "id": "4ca76cd2-1e25-473e-8c60-32559af2b16e",
   "metadata": {},
   "outputs": [],
   "source": [
    "train_df['minus_10_price'] = train_df.close.shift(10)\n",
    "train_df['minus_5_price'] = train_df.close.shift(5)\n",
    "train_df['minus_4_price'] = train_df.close.shift(4)\n",
    "train_df['minus_3_price'] = train_df.close.shift(3)\n",
    "train_df['minus_2_price'] = train_df.close.shift(2)\n",
    "train_df['target'] = train_df.close.shift(-3)\n",
    "train_df = train_df.dropna()\n",
    "train_df.tail(11)"
   ]
  },
  {
   "cell_type": "code",
   "execution_count": 172,
   "id": "16c23f89-1657-473e-81e8-0943df3ef2b9",
   "metadata": {},
   "outputs": [],
   "source": [
    "train_df.to_csv('../data/clean/train.csv', index=True)"
   ]
  },
  {
   "cell_type": "code",
   "execution_count": 322,
   "id": "7ef22fb3-021f-4ee7-a8bd-5c50292767d1",
   "metadata": {},
   "outputs": [],
   "source": [
    "all_historical_data = get_all_data(watchlist)"
   ]
  },
  {
   "cell_type": "code",
   "execution_count": 323,
   "id": "92ec22fc-8ca1-47a5-b052-db286e43f10b",
   "metadata": {},
   "outputs": [],
   "source": [
    "amazon = pd.DataFrame(all_historical_data[0]['historical']).set_index('date', drop=True)\n",
    "amazon.index = pd.to_datetime(amazon.index)\n",
    "\n",
    "apple = pd.DataFrame(all_historical_data[1]['historical']).set_index('date', drop=True)\n",
    "apple.index = pd.to_datetime(apple.index)\n",
    "\n",
    "alphabet = pd.DataFrame(all_historical_data[2]['historical']).set_index('date', drop=True)\n",
    "alphabet.index = pd.to_datetime(alphabet.index)\n",
    "\n",
    "meta = pd.DataFrame(all_historical_data[3]['historical']).set_index('date', drop=True)\n",
    "meta.index = pd.to_datetime(meta.index)\n",
    "\n",
    "microsoft = pd.DataFrame(all_historical_data[4]['historical']).set_index('date', drop=True)\n",
    "microsoft.index = pd.to_datetime(microsoft.index)\n",
    "\n",
    "nvidia = pd.DataFrame(all_historical_data[5]['historical']).set_index('date', drop=True)\n",
    "nvidia.index = pd.to_datetime(nvidia.index)\n",
    "\n",
    "tesla = pd.DataFrame(all_historical_data[6]['historical']).set_index('date', drop=True)\n",
    "tesla.index = pd.to_datetime(tesla.index)"
   ]
  },
  {
   "cell_type": "code",
   "execution_count": 324,
   "id": "4d84d5c8-621e-45e0-987a-cb070e18e242",
   "metadata": {},
   "outputs": [
    {
     "data": {
      "text/html": [
       "<div>\n",
       "<style scoped>\n",
       "    .dataframe tbody tr th:only-of-type {\n",
       "        vertical-align: middle;\n",
       "    }\n",
       "\n",
       "    .dataframe tbody tr th {\n",
       "        vertical-align: top;\n",
       "    }\n",
       "\n",
       "    .dataframe thead th {\n",
       "        text-align: right;\n",
       "    }\n",
       "</style>\n",
       "<table border=\"1\" class=\"dataframe\">\n",
       "  <thead>\n",
       "    <tr style=\"text-align: right;\">\n",
       "      <th></th>\n",
       "      <th>open</th>\n",
       "      <th>high</th>\n",
       "      <th>low</th>\n",
       "      <th>close</th>\n",
       "      <th>volume</th>\n",
       "      <th>vwap</th>\n",
       "      <th>symbol</th>\n",
       "    </tr>\n",
       "    <tr>\n",
       "      <th>date</th>\n",
       "      <th></th>\n",
       "      <th></th>\n",
       "      <th></th>\n",
       "      <th></th>\n",
       "      <th></th>\n",
       "      <th></th>\n",
       "      <th></th>\n",
       "    </tr>\n",
       "  </thead>\n",
       "  <tbody>\n",
       "    <tr>\n",
       "      <th>2024-06-28</th>\n",
       "      <td>197.73</td>\n",
       "      <td>198.85</td>\n",
       "      <td>192.50</td>\n",
       "      <td>193.25</td>\n",
       "      <td>76897093</td>\n",
       "      <td>195.5825</td>\n",
       "      <td>AMZN</td>\n",
       "    </tr>\n",
       "    <tr>\n",
       "      <th>2024-06-27</th>\n",
       "      <td>195.01</td>\n",
       "      <td>199.84</td>\n",
       "      <td>194.20</td>\n",
       "      <td>197.85</td>\n",
       "      <td>74397491</td>\n",
       "      <td>196.7250</td>\n",
       "      <td>AMZN</td>\n",
       "    </tr>\n",
       "    <tr>\n",
       "      <th>2024-06-26</th>\n",
       "      <td>186.92</td>\n",
       "      <td>194.80</td>\n",
       "      <td>186.26</td>\n",
       "      <td>193.61</td>\n",
       "      <td>65103893</td>\n",
       "      <td>190.3975</td>\n",
       "      <td>AMZN</td>\n",
       "    </tr>\n",
       "    <tr>\n",
       "      <th>2024-06-25</th>\n",
       "      <td>186.81</td>\n",
       "      <td>188.84</td>\n",
       "      <td>185.42</td>\n",
       "      <td>186.34</td>\n",
       "      <td>45898475</td>\n",
       "      <td>186.8525</td>\n",
       "      <td>AMZN</td>\n",
       "    </tr>\n",
       "    <tr>\n",
       "      <th>2024-06-24</th>\n",
       "      <td>189.33</td>\n",
       "      <td>191.00</td>\n",
       "      <td>185.33</td>\n",
       "      <td>185.57</td>\n",
       "      <td>50610379</td>\n",
       "      <td>187.8075</td>\n",
       "      <td>AMZN</td>\n",
       "    </tr>\n",
       "  </tbody>\n",
       "</table>\n",
       "</div>"
      ],
      "text/plain": [
       "              open    high     low   close    volume      vwap symbol\n",
       "date                                                                 \n",
       "2024-06-28  197.73  198.85  192.50  193.25  76897093  195.5825   AMZN\n",
       "2024-06-27  195.01  199.84  194.20  197.85  74397491  196.7250   AMZN\n",
       "2024-06-26  186.92  194.80  186.26  193.61  65103893  190.3975   AMZN\n",
       "2024-06-25  186.81  188.84  185.42  186.34  45898475  186.8525   AMZN\n",
       "2024-06-24  189.33  191.00  185.33  185.57  50610379  187.8075   AMZN"
      ]
     },
     "execution_count": 324,
     "metadata": {},
     "output_type": "execute_result"
    }
   ],
   "source": [
    "amazon.head()"
   ]
  },
  {
   "cell_type": "code",
   "execution_count": 325,
   "id": "8c99a897-44e5-4737-b7bb-399a3cb76d7c",
   "metadata": {},
   "outputs": [],
   "source": [
    "amazon_indicators = get_indicators(amazon.symbol.iloc[0], indicators)\n",
    "amazon_rating = pd.DataFrame(get_jsonparsed_data(historical_rating_url(amazon.symbol.iloc[0])))[['date', 'ratingScore']]\n",
    "amazon_rating.date = pd.to_datetime(amazon_rating.date)\n",
    "amazon_rating = amazon_rating.set_index('date', drop=True)\n",
    "amazon_training_data = pd.concat([amazon, amazon_indicators, amazon_rating], axis=1).sort_index().dropna()\n",
    "amazon_training_data = amazon_training_data.asfreq('D', method='ffill')\n",
    "amazon_training_data = lagging_features_target(amazon_training_data)\n",
    "amazon_training_data.to_csv('../data/clean/amazon_training_data.csv', index=True)"
   ]
  },
  {
   "cell_type": "code",
   "execution_count": 326,
   "id": "9320e829-a2ee-4c72-94d2-d5e826b863af",
   "metadata": {},
   "outputs": [],
   "source": [
    "apple_indicators = get_indicators(apple.symbol.iloc[0], indicators)\n",
    "apple_rating = pd.DataFrame(get_jsonparsed_data(historical_rating_url(apple.symbol.iloc[0])))[['date', 'ratingScore']]\n",
    "apple_rating.date = pd.to_datetime(apple_rating.date)\n",
    "apple_rating = apple_rating.set_index('date', drop=True)\n",
    "apple_training_data = pd.concat([apple, apple_indicators, apple_rating], axis=1).sort_index().dropna()\n",
    "apple_training_data = apple_training_data.asfreq('D', method='ffill')\n",
    "apple_training_data = lagging_features_target(apple_training_data)\n",
    "apple_training_data.to_csv('../data/clean/apple_training_data.csv', index=True)"
   ]
  },
  {
   "cell_type": "code",
   "execution_count": 327,
   "id": "0ab15c23-6042-4db4-b72c-47f6d7048b8b",
   "metadata": {},
   "outputs": [],
   "source": [
    "alphabet_indicators = get_indicators(alphabet.symbol.iloc[0], indicators)\n",
    "alphabet_rating = pd.DataFrame(get_jsonparsed_data(historical_rating_url(alphabet.symbol.iloc[0])))[['date', 'ratingScore']]\n",
    "alphabet_rating.date = pd.to_datetime(alphabet_rating.date)\n",
    "alphabet_rating = alphabet_rating.set_index('date', drop=True)\n",
    "alphabet_training_data = pd.concat([alphabet, alphabet_indicators, alphabet_rating], axis=1).sort_index().dropna()\n",
    "alphabet_training_data = alphabet_training_data.asfreq('D', method='ffill')\n",
    "alphabet_training_data = lagging_features_target(alphabet_training_data)\n",
    "alphabet_training_data.to_csv('../data/clean/alphabet_training_data.csv', index=True)"
   ]
  },
  {
   "cell_type": "code",
   "execution_count": 328,
   "id": "c677e038-f0e5-4cf9-9a34-c317ebffc6c5",
   "metadata": {},
   "outputs": [],
   "source": [
    "meta_indicators = get_indicators(meta.symbol.iloc[0], indicators)\n",
    "meta_rating = pd.DataFrame(get_jsonparsed_data(historical_rating_url(meta.symbol.iloc[0])))[['date', 'ratingScore']]\n",
    "meta_rating.date = pd.to_datetime(meta_rating.date)\n",
    "meta_rating = meta_rating.set_index('date', drop=True)\n",
    "meta_training_data = pd.concat([meta, meta_indicators, meta_rating], axis=1).sort_index().dropna()\n",
    "meta_training_data = meta_training_data.asfreq('D', method='ffill')\n",
    "meta_training_data = lagging_features_target(meta_training_data)\n",
    "meta_training_data.to_csv('../data/clean/meta_training_data.csv', index=True)"
   ]
  },
  {
   "cell_type": "code",
   "execution_count": 329,
   "id": "0a980457-3033-4df3-80a0-d19aec431597",
   "metadata": {},
   "outputs": [],
   "source": [
    "microsoft_indicators = get_indicators(microsoft.symbol.iloc[0], indicators)\n",
    "microsoft_rating = pd.DataFrame(get_jsonparsed_data(historical_rating_url(microsoft.symbol.iloc[0])))[['date', 'ratingScore']]\n",
    "microsoft_rating.date = pd.to_datetime(microsoft_rating.date)\n",
    "microsoft_rating = microsoft_rating.set_index('date', drop=True)\n",
    "microsoft_training_data = pd.concat([microsoft, microsoft_indicators, microsoft_rating], axis=1).sort_index().dropna()\n",
    "microsoft_training_data = microsoft_training_data.asfreq('D', method='ffill')\n",
    "microsoft_training_data = lagging_features_target(microsoft_training_data)\n",
    "microsoft_training_data.to_csv('../data/clean/microsoft_training_data.csv', index=True)"
   ]
  },
  {
   "cell_type": "code",
   "execution_count": 330,
   "id": "b67e9963-64a0-43a5-936f-284e39ff19f1",
   "metadata": {},
   "outputs": [],
   "source": [
    "nvidia_indicators = get_indicators(nvidia.symbol.iloc[0], indicators)\n",
    "nvidia_rating = pd.DataFrame(get_jsonparsed_data(historical_rating_url(nvidia.symbol.iloc[0])))[['date', 'ratingScore']]\n",
    "nvidia_rating.date = pd.to_datetime(nvidia_rating.date)\n",
    "nvidia_rating = nvidia_rating.set_index('date', drop=True)\n",
    "nvidia_training_data = pd.concat([nvidia, nvidia_indicators, nvidia_rating], axis=1).sort_index().dropna()\n",
    "nvidia_training_data = nvidia_training_data.asfreq('D', method='ffill')\n",
    "nvidia_training_data = lagging_features_target(nvidia_training_data)\n",
    "nvidia_training_data.to_csv('../data/clean/nvidia_training_data.csv', index=True)"
   ]
  },
  {
   "cell_type": "code",
   "execution_count": 331,
   "id": "52b474da-9caa-48d2-b381-394a9ca6be4b",
   "metadata": {},
   "outputs": [],
   "source": [
    "tesla_indicators = get_indicators(tesla.symbol.iloc[0], indicators)\n",
    "tesla_rating = pd.DataFrame(get_jsonparsed_data(historical_rating_url(tesla.symbol.iloc[0])))[['date', 'ratingScore']]\n",
    "tesla_rating.date = pd.to_datetime(tesla_rating.date)\n",
    "tesla_rating = tesla_rating.set_index('date', drop=True)\n",
    "tesla_training_data = pd.concat([tesla, tesla_indicators, tesla_rating], axis=1).sort_index().dropna()\n",
    "tesla_training_data = tesla_training_data.asfreq('D', method='ffill')\n",
    "tesla_training_data = lagging_features_target(tesla_training_data)\n",
    "tesla_training_data.to_csv('../data/clean/tesla_training_data.csv', index=True)"
   ]
  },
  {
   "cell_type": "code",
   "execution_count": null,
   "id": "62c41408-168a-4190-8bea-2cb19230c2a2",
   "metadata": {},
   "outputs": [],
   "source": [
    "for col in train_df:\n",
    "    fig = px.box(train_df, col)\n",
    "    fig.show()"
   ]
  },
  {
   "cell_type": "code",
   "execution_count": null,
   "id": "7ee2c5fa-d254-4a1a-b1df-56a7b5a27873",
   "metadata": {},
   "outputs": [],
   "source": [
    "additional_params = {\n",
    "    'limit': 10,\n",
    "    'exchange': 'NASDAQ',\n",
    "    'isEtf': False,\n",
    "    'isFund': False,\n",
    "    'isActivelyTrading': True\n",
    "}\n",
    "\n",
    "screener_url = stock_screener(**additional_params)\n",
    "screener = get_jsonparsed_data(screener_url)\n",
    "screener[0]"
   ]
  },
  {
   "cell_type": "code",
   "execution_count": null,
   "id": "09a2f72a-0124-4f3d-9072-03a38a2eff75",
   "metadata": {},
   "outputs": [],
   "source": [
    "screener = pd.DataFrame(screener)\n",
    "screener.sort_values(by='marketCap', ascending=False)"
   ]
  }
 ],
 "metadata": {
  "kernelspec": {
   "display_name": "venv-final-project",
   "language": "python",
   "name": "venv-final-project"
  },
  "language_info": {
   "codemirror_mode": {
    "name": "ipython",
    "version": 3
   },
   "file_extension": ".py",
   "mimetype": "text/x-python",
   "name": "python",
   "nbconvert_exporter": "python",
   "pygments_lexer": "ipython3",
   "version": "3.9.6"
  }
 },
 "nbformat": 4,
 "nbformat_minor": 5
}
