{
 "cells": [
  {
   "cell_type": "code",
   "execution_count": null,
   "id": "ca87eb92-449c-40fb-831c-a200fadf52f3",
   "metadata": {},
   "outputs": [],
   "source": [
    "import pandas as pd\n",
    "import config\n",
    "import os\n",
    "from fmp_python.fmp import FMP\n",
    "import pprint\n",
    "import ssl\n",
    "import time\n",
    "\n",
    "from functions import trim_and_lower\n",
    "\n",
    "from urllib.request import urlopen\n",
    "from urllib.parse import urlencode\n",
    "import certifi\n",
    "import json\n",
    "from IPython.display import Image, display\n",
    "\n",
    "import plotly.express as px"
   ]
  },
  {
   "cell_type": "code",
   "execution_count": null,
   "id": "69cfbd4f-8ed9-4b26-a501-55241c283553",
   "metadata": {},
   "outputs": [],
   "source": [
    "# Create a custom SSL context\n",
    "context = ssl.create_default_context(cafile=certifi.where())\n",
    "\n",
    "# Now you can access the environment variables\n",
    "apikey = os.getenv('FMP_SECRET_KEY')\n",
    "\n",
    "\n",
    "def company_profile_url(ticker, apikey=apikey):\n",
    "    endpoint = 'https://financialmodelingprep.com/api/v3/profile/'\n",
    "    url = f'{endpoint}{ticker}?apikey={apikey}'\n",
    "    return url\n",
    "\n",
    "def stock_screener(apikey=apikey, **kwargs):\n",
    "    endpoint = 'https://financialmodelingprep.com/api/v3/stock-screener'\n",
    "    params = {'apikey': apikey}\n",
    "    params.update(kwargs)\n",
    "    query_string = urlencode(params)\n",
    "    url = f'{endpoint}?{query_string}'\n",
    "    return url\n",
    "\n",
    "def full_quote_url(ticker, apikey=apikey):\n",
    "    endpoint = 'https://financialmodelingprep.com/api/v3/quote/'\n",
    "    url = f'{endpoint}{ticker}?apikey={apikey}'\n",
    "    return url\n",
    "\n",
    "def historical_url(ticker, apikey=apikey):\n",
    "    endpoint = 'https://financialmodelingprep.com/api/v3/historical-price-full/'\n",
    "    url = f'{endpoint}{ticker}?apikey={apikey}'\n",
    "    return url\n",
    "\n",
    "def technical_indicator_url(timeframe, ticker, ind_type, period, apikey=apikey):\n",
    "    endpoint = 'https://financialmodelingprep.com/api/v3/technical_indicator/'\n",
    "    ticker = ticker\n",
    "    url = f'{endpoint}{timeframe}/{ticker}?type={ind_type}&period={period}&apikey={apikey}'\n",
    "    return url\n",
    "\n",
    "def historical_rating_url(ticker, apikey=apikey):\n",
    "    endpoint = 'https://financialmodelingprep.com/api/v3/historical-rating/'\n",
    "    url = f'{endpoint}{ticker}?apikey={apikey}'\n",
    "    return url\n",
    "\n",
    "def get_jsonparsed_data(url, retries=3, timeout=10):\n",
    "    \"\"\"\n",
    "    Fetch JSON data from the provided URL and return it as a Python dictionary.\n",
    "    \n",
    "    Parameters\n",
    "    ----------\n",
    "    url : str\n",
    "        The URL to fetch data from.\n",
    "    retries : int\n",
    "        The number of retries for the request in case of failure.\n",
    "    timeout : int\n",
    "        The timeout for the request in seconds.\n",
    "\n",
    "    Returns\n",
    "    -------\n",
    "    dict\n",
    "        The parsed JSON data.\n",
    "    \"\"\"\n",
    "    context = ssl.create_default_context(cafile=certifi.where())\n",
    "    for attempt in range(retries):\n",
    "        try:\n",
    "            with urlopen(url, context=context, timeout=timeout) as response:\n",
    "                data = response.read().decode(\"utf-8\")\n",
    "                return json.loads(data)\n",
    "        except Exception as e:\n",
    "            print(f\"Attempt {attempt + 1} failed: {e}\")\n",
    "            if attempt < retries - 1:\n",
    "                time.sleep(2 ** attempt)  # Exponential backoff\n",
    "            else:\n",
    "                raise\n",
    "\n",
    "def display_company_logo(ticker, apikey=apikey, retries=3, timeout=10):\n",
    "    endpoint = 'https://financialmodelingprep.com/image-stock/'\n",
    "    url = f'{endpoint}{ticker}.png?apikey={apikey}'\n",
    "    for attempt in range(retries):\n",
    "        try:\n",
    "            with urlopen(url, context=context) as response:\n",
    "                image_data = response.read()\n",
    "                display(Image(image_data))\n",
    "        except Exception as e:\n",
    "            print(f\"Error fetching image: {e}\")\n",
    "\n",
    "\n",
    "def get_indicators(ticker, indicators, timeframe='1day', period=14, apikey=apikey):\n",
    "    urls = {}\n",
    "    for indicator in indicators:\n",
    "        url = technical_indicator_url(timeframe, ticker, indicator, period, apikey)\n",
    "        urls[indicator] = url\n",
    "    \n",
    "    ind_data = {}\n",
    "    for key, value in urls.items():\n",
    "        data = get_jsonparsed_data(value)\n",
    "        filtered_data = [{'date': entry['date'], key: entry[key]} for entry in data if key in entry]\n",
    "        ind_data[key] = filtered_data\n",
    "    \n",
    "    df_list = []\n",
    "    for indicator, data in ind_data.items():\n",
    "        df = pd.DataFrame(data)\n",
    "        df = df.set_index('date')\n",
    "        df_list.append(df)\n",
    "\n",
    "    final_df = pd.concat(df_list, axis=1, join='outer')\n",
    "    final_df.index = pd.to_datetime(indicator_df.index)\n",
    "        \n",
    "    return final_df\n",
    "\n",
    "def stock_summary_table(stock_data):\n",
    "    columns = stock_data[0]\n",
    "    table = pd.DataFrame(stock_data)[['symbol', 'name', 'price', 'marketCap', 'exchange']]\n",
    "    melted = table.melt().set_index('variable', drop=True)\n",
    "    return melted\n",
    "\n",
    "\n",
    "def get_all_data(tickers):\n",
    "    data = []\n",
    "    for ticker in tickers:\n",
    "        historical_data = get_jsonparsed_data(historical_url(ticker))\n",
    "        data.append(historical_data)\n",
    "\n",
    "    # List of keys to keep in each dictionary\n",
    "    keys_to_keep = ['date', 'open', 'high', 'low', 'close', 'volume', 'vwap']\n",
    "\n",
    "    for item in data:\n",
    "        historical = item['historical']\n",
    "        symbol = item['symbol']\n",
    "\n",
    "        # Modify each entry in the historical list\n",
    "        for entry in historical:\n",
    "            entry['symbol'] = symbol\n",
    "            # Keep only the necessary keys\n",
    "            for key in list(entry.keys()):\n",
    "                if key not in keys_to_keep and key != 'symbol':\n",
    "                    del entry[key]\n",
    "    \n",
    "    return data\n",
    "\n",
    "\n",
    "def lagging_features_target(df):\n",
    "    df = df.copy()\n",
    "    df['minus_10_price'] = df.close.shift(10)\n",
    "    df['minus_5_price'] = df.close.shift(5)\n",
    "    df['minus_5_price'] = df.close.shift(5)\n",
    "    df['minus_4_price'] = df.close.shift(4)\n",
    "    df['minus_3_price'] = df.close.shift(3)\n",
    "    df['minus_2_price'] = df.close.shift(2)\n",
    "    df['target'] = df.close.shift(-3)\n",
    "    df = df.dropna()\n",
    "    return df"
   ]
  },
  {
   "cell_type": "code",
   "execution_count": null,
   "id": "29e0d449-bf90-40c5-8b16-898b001fb01b",
   "metadata": {},
   "outputs": [],
   "source": [
    "watchlist = ['AMZN', 'AAPL', 'GOOG', 'META','MSFT', 'NVDA', 'TSLA']\n",
    "#watchlist = ['AMZN', 'AAPL']\n",
    "timeframes = ['1min', '5min', '15min', '30min', '1hour', '4hour', '1day']\n",
    "indicators = ['dema', 'tema', 'williams', 'rsi', 'adx']\n",
    "#indicators = ['sma', 'ema', 'wma', 'dema', 'tema', 'williams', 'rsi', 'adx']"
   ]
  },
  {
   "cell_type": "code",
   "execution_count": null,
   "id": "ddc99a20-438f-4315-af3d-3153e2ebfe7b",
   "metadata": {},
   "outputs": [],
   "source": [
    "indicator_df = get_indicators('TTD', indicators)"
   ]
  },
  {
   "cell_type": "code",
   "execution_count": null,
   "id": "99a12105-b207-4f47-a0c8-1b2390185a78",
   "metadata": {},
   "outputs": [],
   "source": [
    "hist_rating_url = historical_rating_url('TTD')\n",
    "hist_rating = get_jsonparsed_data(hist_rating_url)"
   ]
  },
  {
   "cell_type": "code",
   "execution_count": null,
   "id": "2a4e8c72-6f23-48c4-a269-4e0d0b61dc03",
   "metadata": {},
   "outputs": [],
   "source": [
    "hist_rating = pd.DataFrame(hist_rating)[['date', 'ratingScore']]\n",
    "hist_rating = hist_rating.set_index('date', drop=True)\n",
    "hist_rating.index = pd.to_datetime(hist_rating.index)"
   ]
  },
  {
   "cell_type": "code",
   "execution_count": null,
   "id": "a2f1fdb0-4663-47b4-94fb-89a8e790e26c",
   "metadata": {},
   "outputs": [],
   "source": [
    "hist_url = historical_url('TTD')\n",
    "hist = get_jsonparsed_data(hist_url)['historical']"
   ]
  },
  {
   "cell_type": "code",
   "execution_count": null,
   "id": "eb967c36-158f-42b8-a766-50172a71c783",
   "metadata": {},
   "outputs": [],
   "source": [
    "hist = pd.DataFrame(hist).set_index('date', drop=True)\n",
    "hist.index = pd.to_datetime(hist.index)\n",
    "hist = hist.drop(columns=['unadjustedVolume', 'adjClose', 'label', 'changeOverTime'])"
   ]
  },
  {
   "cell_type": "code",
   "execution_count": null,
   "id": "598862b3-81b9-4068-a134-a3d3d872558f",
   "metadata": {},
   "outputs": [],
   "source": [
    "df = pd.concat([hist, indicator_df, hist_rating], axis=1).sort_index()\n",
    "df = df.dropna()\n",
    "df.head()"
   ]
  },
  {
   "cell_type": "code",
   "execution_count": null,
   "id": "ac62474f-4479-4510-aa25-22b6a03de8e8",
   "metadata": {},
   "outputs": [],
   "source": [
    "df.shape"
   ]
  },
  {
   "cell_type": "code",
   "execution_count": null,
   "id": "84b92c94-ca7c-4d86-9c7b-2420af3dd7cb",
   "metadata": {},
   "outputs": [],
   "source": [
    "train_df = df.copy()"
   ]
  },
  {
   "cell_type": "code",
   "execution_count": null,
   "id": "2e838f39-7009-43cd-85c7-449b89ad1554",
   "metadata": {},
   "outputs": [],
   "source": [
    "train_df = train_df.asfreq('D', method='ffill')\n",
    "train_df.shape"
   ]
  },
  {
   "cell_type": "code",
   "execution_count": null,
   "id": "16c23f89-1657-473e-81e8-0943df3ef2b9",
   "metadata": {},
   "outputs": [],
   "source": [
    "train_df.to_csv('../data/clean/train.csv', index=True)"
   ]
  },
  {
   "cell_type": "code",
   "execution_count": null,
   "id": "7ef22fb3-021f-4ee7-a8bd-5c50292767d1",
   "metadata": {},
   "outputs": [],
   "source": [
    "all_historical_data = get_all_data(watchlist)"
   ]
  },
  {
   "cell_type": "code",
   "execution_count": null,
   "id": "92ec22fc-8ca1-47a5-b052-db286e43f10b",
   "metadata": {},
   "outputs": [],
   "source": [
    "amazon = pd.DataFrame(all_historical_data[0]['historical']).set_index('date', drop=True)\n",
    "amazon.index = pd.to_datetime(amazon.index)\n",
    "\n",
    "apple = pd.DataFrame(all_historical_data[1]['historical']).set_index('date', drop=True)\n",
    "apple.index = pd.to_datetime(apple.index)\n",
    "\n",
    "alphabet = pd.DataFrame(all_historical_data[2]['historical']).set_index('date', drop=True)\n",
    "alphabet.index = pd.to_datetime(alphabet.index)\n",
    "\n",
    "meta = pd.DataFrame(all_historical_data[3]['historical']).set_index('date', drop=True)\n",
    "meta.index = pd.to_datetime(meta.index)\n",
    "\n",
    "microsoft = pd.DataFrame(all_historical_data[4]['historical']).set_index('date', drop=True)\n",
    "microsoft.index = pd.to_datetime(microsoft.index)\n",
    "\n",
    "nvidia = pd.DataFrame(all_historical_data[5]['historical']).set_index('date', drop=True)\n",
    "nvidia.index = pd.to_datetime(nvidia.index)\n",
    "\n",
    "tesla = pd.DataFrame(all_historical_data[6]['historical']).set_index('date', drop=True)\n",
    "tesla.index = pd.to_datetime(tesla.index)"
   ]
  },
  {
   "cell_type": "code",
   "execution_count": null,
   "id": "8c99a897-44e5-4737-b7bb-399a3cb76d7c",
   "metadata": {},
   "outputs": [],
   "source": [
    "amazon_indicators = get_indicators(amazon.symbol.iloc[0], indicators)\n",
    "amazon_rating = pd.DataFrame(get_jsonparsed_data(historical_rating_url(amazon.symbol.iloc[0])))[['date', 'ratingScore']]\n",
    "amazon_rating.date = pd.to_datetime(amazon_rating.date)\n",
    "amazon_rating = amazon_rating.set_index('date', drop=True)\n",
    "amazon_training_data = pd.concat([amazon, amazon_indicators, amazon_rating], axis=1).sort_index().dropna()\n",
    "amazon_training_data = amazon_training_data.asfreq('D', method='ffill')\n",
    "amazon_training_data = lagging_features_target(amazon_training_data)\n",
    "amazon_training_data.to_csv('../data/clean/amazon_training_data.csv', index=True)"
   ]
  },
  {
   "cell_type": "code",
   "execution_count": null,
   "id": "9320e829-a2ee-4c72-94d2-d5e826b863af",
   "metadata": {},
   "outputs": [],
   "source": [
    "apple_indicators = get_indicators(apple.symbol.iloc[0], indicators)\n",
    "apple_rating = pd.DataFrame(get_jsonparsed_data(historical_rating_url(apple.symbol.iloc[0])))[['date', 'ratingScore']]\n",
    "apple_rating.date = pd.to_datetime(apple_rating.date)\n",
    "apple_rating = apple_rating.set_index('date', drop=True)\n",
    "apple_training_data = pd.concat([apple, apple_indicators, apple_rating], axis=1).sort_index().dropna()\n",
    "apple_training_data = apple_training_data.asfreq('D', method='ffill')\n",
    "apple_training_data = lagging_features_target(apple_training_data)\n",
    "apple_training_data.to_csv('../data/clean/apple_training_data.csv', index=True)"
   ]
  },
  {
   "cell_type": "code",
   "execution_count": null,
   "id": "0ab15c23-6042-4db4-b72c-47f6d7048b8b",
   "metadata": {},
   "outputs": [],
   "source": [
    "alphabet_indicators = get_indicators(alphabet.symbol.iloc[0], indicators)\n",
    "alphabet_rating = pd.DataFrame(get_jsonparsed_data(historical_rating_url(alphabet.symbol.iloc[0])))[['date', 'ratingScore']]\n",
    "alphabet_rating.date = pd.to_datetime(alphabet_rating.date)\n",
    "alphabet_rating = alphabet_rating.set_index('date', drop=True)\n",
    "alphabet_training_data = pd.concat([alphabet, alphabet_indicators, alphabet_rating], axis=1).sort_index().dropna()\n",
    "alphabet_training_data = alphabet_training_data.asfreq('D', method='ffill')\n",
    "alphabet_training_data = lagging_features_target(alphabet_training_data)\n",
    "alphabet_training_data.to_csv('../data/clean/alphabet_training_data.csv', index=True)"
   ]
  },
  {
   "cell_type": "code",
   "execution_count": null,
   "id": "c677e038-f0e5-4cf9-9a34-c317ebffc6c5",
   "metadata": {},
   "outputs": [],
   "source": [
    "meta_indicators = get_indicators(meta.symbol.iloc[0], indicators)\n",
    "meta_rating = pd.DataFrame(get_jsonparsed_data(historical_rating_url(meta.symbol.iloc[0])))[['date', 'ratingScore']]\n",
    "meta_rating.date = pd.to_datetime(meta_rating.date)\n",
    "meta_rating = meta_rating.set_index('date', drop=True)\n",
    "meta_training_data = pd.concat([meta, meta_indicators, meta_rating], axis=1).sort_index().dropna()\n",
    "meta_training_data = meta_training_data.asfreq('D', method='ffill')\n",
    "meta_training_data = lagging_features_target(meta_training_data)\n",
    "meta_training_data.to_csv('../data/clean/meta_training_data.csv', index=True)"
   ]
  },
  {
   "cell_type": "code",
   "execution_count": null,
   "id": "0a980457-3033-4df3-80a0-d19aec431597",
   "metadata": {},
   "outputs": [],
   "source": [
    "microsoft_indicators = get_indicators(microsoft.symbol.iloc[0], indicators)\n",
    "microsoft_rating = pd.DataFrame(get_jsonparsed_data(historical_rating_url(microsoft.symbol.iloc[0])))[['date', 'ratingScore']]\n",
    "microsoft_rating.date = pd.to_datetime(microsoft_rating.date)\n",
    "microsoft_rating = microsoft_rating.set_index('date', drop=True)\n",
    "microsoft_training_data = pd.concat([microsoft, microsoft_indicators, microsoft_rating], axis=1).sort_index().dropna()\n",
    "microsoft_training_data = microsoft_training_data.asfreq('D', method='ffill')\n",
    "microsoft_training_data = lagging_features_target(microsoft_training_data)\n",
    "microsoft_training_data.to_csv('../data/clean/microsoft_training_data.csv', index=True)"
   ]
  },
  {
   "cell_type": "code",
   "execution_count": null,
   "id": "b67e9963-64a0-43a5-936f-284e39ff19f1",
   "metadata": {},
   "outputs": [],
   "source": [
    "nvidia_indicators = get_indicators(nvidia.symbol.iloc[0], indicators)\n",
    "nvidia_rating = pd.DataFrame(get_jsonparsed_data(historical_rating_url(nvidia.symbol.iloc[0])))[['date', 'ratingScore']]\n",
    "nvidia_rating.date = pd.to_datetime(nvidia_rating.date)\n",
    "nvidia_rating = nvidia_rating.set_index('date', drop=True)\n",
    "nvidia_training_data = pd.concat([nvidia, nvidia_indicators, nvidia_rating], axis=1).sort_index().dropna()\n",
    "nvidia_training_data = nvidia_training_data.asfreq('D', method='ffill')\n",
    "nvidia_training_data = lagging_features_target(nvidia_training_data)\n",
    "nvidia_training_data.to_csv('../data/clean/nvidia_training_data.csv', index=True)"
   ]
  },
  {
   "cell_type": "code",
   "execution_count": null,
   "id": "52b474da-9caa-48d2-b381-394a9ca6be4b",
   "metadata": {},
   "outputs": [],
   "source": [
    "tesla_indicators = get_indicators(tesla.symbol.iloc[0], indicators)\n",
    "tesla_rating = pd.DataFrame(get_jsonparsed_data(historical_rating_url(tesla.symbol.iloc[0])))[['date', 'ratingScore']]\n",
    "tesla_rating.date = pd.to_datetime(tesla_rating.date)\n",
    "tesla_rating = tesla_rating.set_index('date', drop=True)\n",
    "tesla_training_data = pd.concat([tesla, tesla_indicators, tesla_rating], axis=1).sort_index().dropna()\n",
    "tesla_training_data = tesla_training_data.asfreq('D', method='ffill')\n",
    "tesla_training_data = lagging_features_target(tesla_training_data)\n",
    "tesla_training_data.to_csv('../data/clean/tesla_training_data.csv', index=True)"
   ]
  },
  {
   "cell_type": "code",
   "execution_count": null,
   "id": "62c41408-168a-4190-8bea-2cb19230c2a2",
   "metadata": {},
   "outputs": [],
   "source": [
    "for col in train_df:\n",
    "    fig = px.box(train_df, col)\n",
    "    fig.show()"
   ]
  },
  {
   "cell_type": "code",
   "execution_count": null,
   "id": "7ee2c5fa-d254-4a1a-b1df-56a7b5a27873",
   "metadata": {},
   "outputs": [],
   "source": [
    "additional_params = {\n",
    "    'limit': 10,\n",
    "    'exchange': 'NASDAQ',\n",
    "    'isEtf': False,\n",
    "    'isFund': False,\n",
    "    'isActivelyTrading': True\n",
    "}\n",
    "\n",
    "screener_url = stock_screener(**additional_params)\n",
    "screener = get_jsonparsed_data(screener_url)\n",
    "screener[0]"
   ]
  },
  {
   "cell_type": "code",
   "execution_count": null,
   "id": "09a2f72a-0124-4f3d-9072-03a38a2eff75",
   "metadata": {},
   "outputs": [],
   "source": [
    "screener = pd.DataFrame(screener)\n",
    "screener.sort_values(by='marketCap', ascending=False)"
   ]
  }
 ],
 "metadata": {
  "kernelspec": {
   "display_name": "venv-final-project",
   "language": "python",
   "name": "venv-final-project"
  },
  "language_info": {
   "codemirror_mode": {
    "name": "ipython",
    "version": 3
   },
   "file_extension": ".py",
   "mimetype": "text/x-python",
   "name": "python",
   "nbconvert_exporter": "python",
   "pygments_lexer": "ipython3",
   "version": "3.9.6"
  }
 },
 "nbformat": 4,
 "nbformat_minor": 5
}
